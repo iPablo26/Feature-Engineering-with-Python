{
 "cells": [
  {
   "cell_type": "code",
   "execution_count": 1,
   "id": "23a1362d",
   "metadata": {
    "ExecuteTime": {
     "end_time": "2021-07-30T14:15:44.332239Z",
     "start_time": "2021-07-30T14:15:43.003760Z"
    }
   },
   "outputs": [],
   "source": [
    "# import the pandas and warnings libraries\n",
    "import pandas as pd \n",
    "import warnings\n",
    "warnings.filterwarnings('ignore')"
   ]
  },
  {
   "cell_type": "code",
   "execution_count": 2,
   "id": "6915b32f",
   "metadata": {
    "ExecuteTime": {
     "end_time": "2021-07-30T14:15:44.401315Z",
     "start_time": "2021-07-30T14:15:44.334761Z"
    }
   },
   "outputs": [
    {
     "data": {
      "text/html": [
       "<div>\n",
       "<style scoped>\n",
       "    .dataframe tbody tr th:only-of-type {\n",
       "        vertical-align: middle;\n",
       "    }\n",
       "\n",
       "    .dataframe tbody tr th {\n",
       "        vertical-align: top;\n",
       "    }\n",
       "\n",
       "    .dataframe thead th {\n",
       "        text-align: right;\n",
       "    }\n",
       "</style>\n",
       "<table border=\"1\" class=\"dataframe\">\n",
       "  <thead>\n",
       "    <tr style=\"text-align: right;\">\n",
       "      <th></th>\n",
       "      <th>school</th>\n",
       "      <th>sex</th>\n",
       "      <th>age</th>\n",
       "      <th>address</th>\n",
       "      <th>famsize</th>\n",
       "      <th>Pstatus</th>\n",
       "      <th>Medu</th>\n",
       "      <th>Fedu</th>\n",
       "      <th>Mjob</th>\n",
       "      <th>Fjob</th>\n",
       "      <th>...</th>\n",
       "      <th>famrel</th>\n",
       "      <th>freetime</th>\n",
       "      <th>goout</th>\n",
       "      <th>Dalc</th>\n",
       "      <th>Walc</th>\n",
       "      <th>health</th>\n",
       "      <th>absences</th>\n",
       "      <th>G1</th>\n",
       "      <th>G2</th>\n",
       "      <th>G3</th>\n",
       "    </tr>\n",
       "  </thead>\n",
       "  <tbody>\n",
       "    <tr>\n",
       "      <th>0</th>\n",
       "      <td>GP</td>\n",
       "      <td>F</td>\n",
       "      <td>18</td>\n",
       "      <td>U</td>\n",
       "      <td>GT3</td>\n",
       "      <td>A</td>\n",
       "      <td>4</td>\n",
       "      <td>4</td>\n",
       "      <td>at_home</td>\n",
       "      <td>teacher</td>\n",
       "      <td>...</td>\n",
       "      <td>4</td>\n",
       "      <td>3</td>\n",
       "      <td>4</td>\n",
       "      <td>1</td>\n",
       "      <td>1</td>\n",
       "      <td>3</td>\n",
       "      <td>6</td>\n",
       "      <td>5</td>\n",
       "      <td>6</td>\n",
       "      <td>6</td>\n",
       "    </tr>\n",
       "    <tr>\n",
       "      <th>1</th>\n",
       "      <td>GP</td>\n",
       "      <td>F</td>\n",
       "      <td>17</td>\n",
       "      <td>U</td>\n",
       "      <td>GT3</td>\n",
       "      <td>T</td>\n",
       "      <td>1</td>\n",
       "      <td>1</td>\n",
       "      <td>at_home</td>\n",
       "      <td>other</td>\n",
       "      <td>...</td>\n",
       "      <td>5</td>\n",
       "      <td>3</td>\n",
       "      <td>3</td>\n",
       "      <td>1</td>\n",
       "      <td>1</td>\n",
       "      <td>3</td>\n",
       "      <td>4</td>\n",
       "      <td>5</td>\n",
       "      <td>5</td>\n",
       "      <td>6</td>\n",
       "    </tr>\n",
       "    <tr>\n",
       "      <th>2</th>\n",
       "      <td>GP</td>\n",
       "      <td>F</td>\n",
       "      <td>15</td>\n",
       "      <td>U</td>\n",
       "      <td>LE3</td>\n",
       "      <td>T</td>\n",
       "      <td>1</td>\n",
       "      <td>1</td>\n",
       "      <td>at_home</td>\n",
       "      <td>other</td>\n",
       "      <td>...</td>\n",
       "      <td>4</td>\n",
       "      <td>3</td>\n",
       "      <td>2</td>\n",
       "      <td>2</td>\n",
       "      <td>3</td>\n",
       "      <td>3</td>\n",
       "      <td>10</td>\n",
       "      <td>7</td>\n",
       "      <td>8</td>\n",
       "      <td>10</td>\n",
       "    </tr>\n",
       "    <tr>\n",
       "      <th>3</th>\n",
       "      <td>GP</td>\n",
       "      <td>F</td>\n",
       "      <td>15</td>\n",
       "      <td>U</td>\n",
       "      <td>GT3</td>\n",
       "      <td>T</td>\n",
       "      <td>4</td>\n",
       "      <td>2</td>\n",
       "      <td>health</td>\n",
       "      <td>services</td>\n",
       "      <td>...</td>\n",
       "      <td>3</td>\n",
       "      <td>2</td>\n",
       "      <td>2</td>\n",
       "      <td>1</td>\n",
       "      <td>1</td>\n",
       "      <td>5</td>\n",
       "      <td>2</td>\n",
       "      <td>15</td>\n",
       "      <td>14</td>\n",
       "      <td>15</td>\n",
       "    </tr>\n",
       "    <tr>\n",
       "      <th>4</th>\n",
       "      <td>GP</td>\n",
       "      <td>F</td>\n",
       "      <td>16</td>\n",
       "      <td>U</td>\n",
       "      <td>GT3</td>\n",
       "      <td>T</td>\n",
       "      <td>3</td>\n",
       "      <td>3</td>\n",
       "      <td>other</td>\n",
       "      <td>other</td>\n",
       "      <td>...</td>\n",
       "      <td>4</td>\n",
       "      <td>3</td>\n",
       "      <td>2</td>\n",
       "      <td>1</td>\n",
       "      <td>2</td>\n",
       "      <td>5</td>\n",
       "      <td>4</td>\n",
       "      <td>6</td>\n",
       "      <td>10</td>\n",
       "      <td>10</td>\n",
       "    </tr>\n",
       "  </tbody>\n",
       "</table>\n",
       "<p>5 rows × 33 columns</p>\n",
       "</div>"
      ],
      "text/plain": [
       "  school sex  age address famsize Pstatus  Medu  Fedu     Mjob      Fjob  ...  \\\n",
       "0     GP   F   18       U     GT3       A     4     4  at_home   teacher  ...   \n",
       "1     GP   F   17       U     GT3       T     1     1  at_home     other  ...   \n",
       "2     GP   F   15       U     LE3       T     1     1  at_home     other  ...   \n",
       "3     GP   F   15       U     GT3       T     4     2   health  services  ...   \n",
       "4     GP   F   16       U     GT3       T     3     3    other     other  ...   \n",
       "\n",
       "  famrel freetime  goout  Dalc  Walc health absences  G1  G2  G3  \n",
       "0      4        3      4     1     1      3        6   5   6   6  \n",
       "1      5        3      3     1     1      3        4   5   5   6  \n",
       "2      4        3      2     2     3      3       10   7   8  10  \n",
       "3      3        2      2     1     1      5        2  15  14  15  \n",
       "4      4        3      2     1     2      5        4   6  10  10  \n",
       "\n",
       "[5 rows x 33 columns]"
      ]
     },
     "execution_count": 2,
     "metadata": {},
     "output_type": "execute_result"
    }
   ],
   "source": [
    "# The first 5 observations of the student alcohol comsumption dataframe\n",
    "df1 = pd.read_csv('student-mat.csv')\n",
    "df1.head()"
   ]
  },
  {
   "cell_type": "code",
   "execution_count": 3,
   "id": "98868b35",
   "metadata": {
    "ExecuteTime": {
     "end_time": "2021-07-30T14:15:44.441189Z",
     "start_time": "2021-07-30T14:15:44.412151Z"
    }
   },
   "outputs": [
    {
     "data": {
      "text/html": [
       "<div>\n",
       "<style scoped>\n",
       "    .dataframe tbody tr th:only-of-type {\n",
       "        vertical-align: middle;\n",
       "    }\n",
       "\n",
       "    .dataframe tbody tr th {\n",
       "        vertical-align: top;\n",
       "    }\n",
       "\n",
       "    .dataframe thead th {\n",
       "        text-align: right;\n",
       "    }\n",
       "</style>\n",
       "<table border=\"1\" class=\"dataframe\">\n",
       "  <thead>\n",
       "    <tr style=\"text-align: right;\">\n",
       "      <th></th>\n",
       "      <th>school</th>\n",
       "      <th>sex</th>\n",
       "      <th>age</th>\n",
       "      <th>address</th>\n",
       "      <th>famsize</th>\n",
       "      <th>Pstatus</th>\n",
       "      <th>Medu</th>\n",
       "      <th>Fedu</th>\n",
       "      <th>Mjob</th>\n",
       "      <th>Fjob</th>\n",
       "      <th>...</th>\n",
       "      <th>famrel</th>\n",
       "      <th>freetime</th>\n",
       "      <th>goout</th>\n",
       "      <th>Dalc</th>\n",
       "      <th>Walc</th>\n",
       "      <th>health</th>\n",
       "      <th>absences</th>\n",
       "      <th>G1</th>\n",
       "      <th>G2</th>\n",
       "      <th>G3</th>\n",
       "    </tr>\n",
       "  </thead>\n",
       "  <tbody>\n",
       "    <tr>\n",
       "      <th>390</th>\n",
       "      <td>MS</td>\n",
       "      <td>M</td>\n",
       "      <td>20</td>\n",
       "      <td>U</td>\n",
       "      <td>LE3</td>\n",
       "      <td>A</td>\n",
       "      <td>2</td>\n",
       "      <td>2</td>\n",
       "      <td>services</td>\n",
       "      <td>services</td>\n",
       "      <td>...</td>\n",
       "      <td>5</td>\n",
       "      <td>5</td>\n",
       "      <td>4</td>\n",
       "      <td>4</td>\n",
       "      <td>5</td>\n",
       "      <td>4</td>\n",
       "      <td>11</td>\n",
       "      <td>9</td>\n",
       "      <td>9</td>\n",
       "      <td>9</td>\n",
       "    </tr>\n",
       "    <tr>\n",
       "      <th>391</th>\n",
       "      <td>MS</td>\n",
       "      <td>M</td>\n",
       "      <td>17</td>\n",
       "      <td>U</td>\n",
       "      <td>LE3</td>\n",
       "      <td>T</td>\n",
       "      <td>3</td>\n",
       "      <td>1</td>\n",
       "      <td>services</td>\n",
       "      <td>services</td>\n",
       "      <td>...</td>\n",
       "      <td>2</td>\n",
       "      <td>4</td>\n",
       "      <td>5</td>\n",
       "      <td>3</td>\n",
       "      <td>4</td>\n",
       "      <td>2</td>\n",
       "      <td>3</td>\n",
       "      <td>14</td>\n",
       "      <td>16</td>\n",
       "      <td>16</td>\n",
       "    </tr>\n",
       "    <tr>\n",
       "      <th>392</th>\n",
       "      <td>MS</td>\n",
       "      <td>M</td>\n",
       "      <td>21</td>\n",
       "      <td>R</td>\n",
       "      <td>GT3</td>\n",
       "      <td>T</td>\n",
       "      <td>1</td>\n",
       "      <td>1</td>\n",
       "      <td>other</td>\n",
       "      <td>other</td>\n",
       "      <td>...</td>\n",
       "      <td>5</td>\n",
       "      <td>5</td>\n",
       "      <td>3</td>\n",
       "      <td>3</td>\n",
       "      <td>3</td>\n",
       "      <td>3</td>\n",
       "      <td>3</td>\n",
       "      <td>10</td>\n",
       "      <td>8</td>\n",
       "      <td>7</td>\n",
       "    </tr>\n",
       "    <tr>\n",
       "      <th>393</th>\n",
       "      <td>MS</td>\n",
       "      <td>M</td>\n",
       "      <td>18</td>\n",
       "      <td>R</td>\n",
       "      <td>LE3</td>\n",
       "      <td>T</td>\n",
       "      <td>3</td>\n",
       "      <td>2</td>\n",
       "      <td>services</td>\n",
       "      <td>other</td>\n",
       "      <td>...</td>\n",
       "      <td>4</td>\n",
       "      <td>4</td>\n",
       "      <td>1</td>\n",
       "      <td>3</td>\n",
       "      <td>4</td>\n",
       "      <td>5</td>\n",
       "      <td>0</td>\n",
       "      <td>11</td>\n",
       "      <td>12</td>\n",
       "      <td>10</td>\n",
       "    </tr>\n",
       "    <tr>\n",
       "      <th>394</th>\n",
       "      <td>MS</td>\n",
       "      <td>M</td>\n",
       "      <td>19</td>\n",
       "      <td>U</td>\n",
       "      <td>LE3</td>\n",
       "      <td>T</td>\n",
       "      <td>1</td>\n",
       "      <td>1</td>\n",
       "      <td>other</td>\n",
       "      <td>at_home</td>\n",
       "      <td>...</td>\n",
       "      <td>3</td>\n",
       "      <td>2</td>\n",
       "      <td>3</td>\n",
       "      <td>3</td>\n",
       "      <td>3</td>\n",
       "      <td>5</td>\n",
       "      <td>5</td>\n",
       "      <td>8</td>\n",
       "      <td>9</td>\n",
       "      <td>9</td>\n",
       "    </tr>\n",
       "  </tbody>\n",
       "</table>\n",
       "<p>5 rows × 33 columns</p>\n",
       "</div>"
      ],
      "text/plain": [
       "    school sex  age address famsize Pstatus  Medu  Fedu      Mjob      Fjob  \\\n",
       "390     MS   M   20       U     LE3       A     2     2  services  services   \n",
       "391     MS   M   17       U     LE3       T     3     1  services  services   \n",
       "392     MS   M   21       R     GT3       T     1     1     other     other   \n",
       "393     MS   M   18       R     LE3       T     3     2  services     other   \n",
       "394     MS   M   19       U     LE3       T     1     1     other   at_home   \n",
       "\n",
       "     ... famrel freetime  goout  Dalc  Walc health absences  G1  G2  G3  \n",
       "390  ...      5        5      4     4     5      4       11   9   9   9  \n",
       "391  ...      2        4      5     3     4      2        3  14  16  16  \n",
       "392  ...      5        5      3     3     3      3        3  10   8   7  \n",
       "393  ...      4        4      1     3     4      5        0  11  12  10  \n",
       "394  ...      3        2      3     3     3      5        5   8   9   9  \n",
       "\n",
       "[5 rows x 33 columns]"
      ]
     },
     "execution_count": 3,
     "metadata": {},
     "output_type": "execute_result"
    }
   ],
   "source": [
    "# The last five observations of the dataframe\n",
    "df1.tail() "
   ]
  },
  {
   "cell_type": "code",
   "execution_count": 4,
   "id": "6c26195d",
   "metadata": {
    "ExecuteTime": {
     "end_time": "2021-07-30T14:15:44.724270Z",
     "start_time": "2021-07-30T14:15:44.718488Z"
    }
   },
   "outputs": [
    {
     "data": {
      "text/plain": [
       "(395, 33)"
      ]
     },
     "execution_count": 4,
     "metadata": {},
     "output_type": "execute_result"
    }
   ],
   "source": [
    "# The shape of the dataframe\n",
    "df1.shape "
   ]
  },
  {
   "cell_type": "markdown",
   "id": "e4c42ab5",
   "metadata": {},
   "source": [
    "### Context:\n",
    "\n",
    "\n",
    "The data were obtained in a survey of students math and portuguese language courses in secondary school. It contains a lot of interesting social, gender and study information about students. You can use it for some EDA or try to predict students final grade."
   ]
  },
  {
   "cell_type": "code",
   "execution_count": 5,
   "id": "1da803fe",
   "metadata": {
    "ExecuteTime": {
     "end_time": "2021-07-30T14:15:45.830040Z",
     "start_time": "2021-07-30T14:15:45.826877Z"
    }
   },
   "outputs": [],
   "source": [
    "# Let's start with the first feature\n",
    "# Schoool: It represents the name of the student's school in abbr.\n",
    "# We can either create a new column with the full name of the schools\n",
    "# Or Replace the values in the column with the full names"
   ]
  },
  {
   "cell_type": "code",
   "execution_count": 6,
   "id": "980ebe1d",
   "metadata": {
    "ExecuteTime": {
     "end_time": "2021-07-30T14:15:46.417325Z",
     "start_time": "2021-07-30T14:15:46.404267Z"
    }
   },
   "outputs": [
    {
     "data": {
      "text/plain": [
       "0    GP\n",
       "1    GP\n",
       "2    GP\n",
       "Name: school, dtype: object"
      ]
     },
     "execution_count": 6,
     "metadata": {},
     "output_type": "execute_result"
    }
   ],
   "source": [
    "df1['school'].head(3)"
   ]
  },
  {
   "cell_type": "code",
   "execution_count": 7,
   "id": "65065c54",
   "metadata": {
    "ExecuteTime": {
     "end_time": "2021-07-30T14:15:47.099067Z",
     "start_time": "2021-07-30T14:15:47.093302Z"
    }
   },
   "outputs": [
    {
     "data": {
      "text/plain": [
       "array(['GP', 'MS'], dtype=object)"
      ]
     },
     "execution_count": 7,
     "metadata": {},
     "output_type": "execute_result"
    }
   ],
   "source": [
    "# Let's check the uniqueness of the column\n",
    "df1['school'].unique()"
   ]
  },
  {
   "cell_type": "code",
   "execution_count": 8,
   "id": "910788dc",
   "metadata": {
    "ExecuteTime": {
     "end_time": "2021-07-30T14:15:58.441520Z",
     "start_time": "2021-07-30T14:15:58.435078Z"
    }
   },
   "outputs": [],
   "source": [
    "# Use the replace function in pandas to replace GP & MS\n",
    "df1['school_binary'] = df1['school'].replace({'GP':1, 'MS':2})"
   ]
  },
  {
   "cell_type": "code",
   "execution_count": 9,
   "id": "98999524",
   "metadata": {
    "ExecuteTime": {
     "end_time": "2021-07-30T14:15:59.304296Z",
     "start_time": "2021-07-30T14:15:59.279107Z"
    }
   },
   "outputs": [
    {
     "data": {
      "text/html": [
       "<div>\n",
       "<style scoped>\n",
       "    .dataframe tbody tr th:only-of-type {\n",
       "        vertical-align: middle;\n",
       "    }\n",
       "\n",
       "    .dataframe tbody tr th {\n",
       "        vertical-align: top;\n",
       "    }\n",
       "\n",
       "    .dataframe thead th {\n",
       "        text-align: right;\n",
       "    }\n",
       "</style>\n",
       "<table border=\"1\" class=\"dataframe\">\n",
       "  <thead>\n",
       "    <tr style=\"text-align: right;\">\n",
       "      <th></th>\n",
       "      <th>school</th>\n",
       "      <th>school_binary</th>\n",
       "    </tr>\n",
       "  </thead>\n",
       "  <tbody>\n",
       "    <tr>\n",
       "      <th>0</th>\n",
       "      <td>GP</td>\n",
       "      <td>1</td>\n",
       "    </tr>\n",
       "    <tr>\n",
       "      <th>1</th>\n",
       "      <td>GP</td>\n",
       "      <td>1</td>\n",
       "    </tr>\n",
       "  </tbody>\n",
       "</table>\n",
       "</div>"
      ],
      "text/plain": [
       "  school  school_binary\n",
       "0     GP              1\n",
       "1     GP              1"
      ]
     },
     "execution_count": 9,
     "metadata": {},
     "output_type": "execute_result"
    }
   ],
   "source": [
    "df1[['school','school_binary']].head(2)"
   ]
  },
  {
   "cell_type": "code",
   "execution_count": 10,
   "id": "7b6f91e9",
   "metadata": {
    "ExecuteTime": {
     "end_time": "2021-07-30T14:16:02.397194Z",
     "start_time": "2021-07-30T14:16:02.388184Z"
    }
   },
   "outputs": [
    {
     "data": {
      "text/html": [
       "<div>\n",
       "<style scoped>\n",
       "    .dataframe tbody tr th:only-of-type {\n",
       "        vertical-align: middle;\n",
       "    }\n",
       "\n",
       "    .dataframe tbody tr th {\n",
       "        vertical-align: top;\n",
       "    }\n",
       "\n",
       "    .dataframe thead th {\n",
       "        text-align: right;\n",
       "    }\n",
       "</style>\n",
       "<table border=\"1\" class=\"dataframe\">\n",
       "  <thead>\n",
       "    <tr style=\"text-align: right;\">\n",
       "      <th></th>\n",
       "      <th>school</th>\n",
       "      <th>school_binary</th>\n",
       "    </tr>\n",
       "  </thead>\n",
       "  <tbody>\n",
       "    <tr>\n",
       "      <th>393</th>\n",
       "      <td>MS</td>\n",
       "      <td>2</td>\n",
       "    </tr>\n",
       "    <tr>\n",
       "      <th>394</th>\n",
       "      <td>MS</td>\n",
       "      <td>2</td>\n",
       "    </tr>\n",
       "  </tbody>\n",
       "</table>\n",
       "</div>"
      ],
      "text/plain": [
       "    school  school_binary\n",
       "393     MS              2\n",
       "394     MS              2"
      ]
     },
     "execution_count": 10,
     "metadata": {},
     "output_type": "execute_result"
    }
   ],
   "source": [
    "df1[['school','school_binary']].tail(2) "
   ]
  },
  {
   "cell_type": "code",
   "execution_count": 57,
   "id": "806b74bc",
   "metadata": {
    "ExecuteTime": {
     "end_time": "2021-07-30T13:19:30.382452Z",
     "start_time": "2021-07-30T13:19:30.317809Z"
    }
   },
   "outputs": [
    {
     "data": {
      "text/html": [
       "<div>\n",
       "<style scoped>\n",
       "    .dataframe tbody tr th:only-of-type {\n",
       "        vertical-align: middle;\n",
       "    }\n",
       "\n",
       "    .dataframe tbody tr th {\n",
       "        vertical-align: top;\n",
       "    }\n",
       "\n",
       "    .dataframe thead th {\n",
       "        text-align: right;\n",
       "    }\n",
       "</style>\n",
       "<table border=\"1\" class=\"dataframe\">\n",
       "  <thead>\n",
       "    <tr style=\"text-align: right;\">\n",
       "      <th></th>\n",
       "      <th>school</th>\n",
       "      <th>sex</th>\n",
       "      <th>age</th>\n",
       "      <th>address</th>\n",
       "      <th>famsize</th>\n",
       "      <th>Pstatus</th>\n",
       "      <th>Medu</th>\n",
       "      <th>Fedu</th>\n",
       "      <th>Mjob</th>\n",
       "      <th>Fjob</th>\n",
       "      <th>...</th>\n",
       "      <th>famrel</th>\n",
       "      <th>freetime</th>\n",
       "      <th>goout</th>\n",
       "      <th>Dalc</th>\n",
       "      <th>Walc</th>\n",
       "      <th>health</th>\n",
       "      <th>absences</th>\n",
       "      <th>G1</th>\n",
       "      <th>G2</th>\n",
       "      <th>G3</th>\n",
       "    </tr>\n",
       "  </thead>\n",
       "  <tbody>\n",
       "    <tr>\n",
       "      <th>0</th>\n",
       "      <td>GP</td>\n",
       "      <td>F</td>\n",
       "      <td>18</td>\n",
       "      <td>U</td>\n",
       "      <td>GT3</td>\n",
       "      <td>A</td>\n",
       "      <td>4</td>\n",
       "      <td>4</td>\n",
       "      <td>at_home</td>\n",
       "      <td>teacher</td>\n",
       "      <td>...</td>\n",
       "      <td>4</td>\n",
       "      <td>3</td>\n",
       "      <td>4</td>\n",
       "      <td>1</td>\n",
       "      <td>1</td>\n",
       "      <td>3</td>\n",
       "      <td>6</td>\n",
       "      <td>5</td>\n",
       "      <td>6</td>\n",
       "      <td>6</td>\n",
       "    </tr>\n",
       "    <tr>\n",
       "      <th>1</th>\n",
       "      <td>GP</td>\n",
       "      <td>F</td>\n",
       "      <td>17</td>\n",
       "      <td>U</td>\n",
       "      <td>GT3</td>\n",
       "      <td>T</td>\n",
       "      <td>1</td>\n",
       "      <td>1</td>\n",
       "      <td>at_home</td>\n",
       "      <td>other</td>\n",
       "      <td>...</td>\n",
       "      <td>5</td>\n",
       "      <td>3</td>\n",
       "      <td>3</td>\n",
       "      <td>1</td>\n",
       "      <td>1</td>\n",
       "      <td>3</td>\n",
       "      <td>4</td>\n",
       "      <td>5</td>\n",
       "      <td>5</td>\n",
       "      <td>6</td>\n",
       "    </tr>\n",
       "    <tr>\n",
       "      <th>2</th>\n",
       "      <td>GP</td>\n",
       "      <td>F</td>\n",
       "      <td>15</td>\n",
       "      <td>U</td>\n",
       "      <td>LE3</td>\n",
       "      <td>T</td>\n",
       "      <td>1</td>\n",
       "      <td>1</td>\n",
       "      <td>at_home</td>\n",
       "      <td>other</td>\n",
       "      <td>...</td>\n",
       "      <td>4</td>\n",
       "      <td>3</td>\n",
       "      <td>2</td>\n",
       "      <td>2</td>\n",
       "      <td>3</td>\n",
       "      <td>3</td>\n",
       "      <td>10</td>\n",
       "      <td>7</td>\n",
       "      <td>8</td>\n",
       "      <td>10</td>\n",
       "    </tr>\n",
       "    <tr>\n",
       "      <th>3</th>\n",
       "      <td>GP</td>\n",
       "      <td>F</td>\n",
       "      <td>15</td>\n",
       "      <td>U</td>\n",
       "      <td>GT3</td>\n",
       "      <td>T</td>\n",
       "      <td>4</td>\n",
       "      <td>2</td>\n",
       "      <td>health</td>\n",
       "      <td>services</td>\n",
       "      <td>...</td>\n",
       "      <td>3</td>\n",
       "      <td>2</td>\n",
       "      <td>2</td>\n",
       "      <td>1</td>\n",
       "      <td>1</td>\n",
       "      <td>5</td>\n",
       "      <td>2</td>\n",
       "      <td>15</td>\n",
       "      <td>14</td>\n",
       "      <td>15</td>\n",
       "    </tr>\n",
       "    <tr>\n",
       "      <th>4</th>\n",
       "      <td>GP</td>\n",
       "      <td>F</td>\n",
       "      <td>16</td>\n",
       "      <td>U</td>\n",
       "      <td>GT3</td>\n",
       "      <td>T</td>\n",
       "      <td>3</td>\n",
       "      <td>3</td>\n",
       "      <td>other</td>\n",
       "      <td>other</td>\n",
       "      <td>...</td>\n",
       "      <td>4</td>\n",
       "      <td>3</td>\n",
       "      <td>2</td>\n",
       "      <td>1</td>\n",
       "      <td>2</td>\n",
       "      <td>5</td>\n",
       "      <td>4</td>\n",
       "      <td>6</td>\n",
       "      <td>10</td>\n",
       "      <td>10</td>\n",
       "    </tr>\n",
       "  </tbody>\n",
       "</table>\n",
       "<p>5 rows × 33 columns</p>\n",
       "</div>"
      ],
      "text/plain": [
       "  school sex  age address famsize Pstatus  Medu  Fedu     Mjob      Fjob  ...  \\\n",
       "0     GP   F   18       U     GT3       A     4     4  at_home   teacher  ...   \n",
       "1     GP   F   17       U     GT3       T     1     1  at_home     other  ...   \n",
       "2     GP   F   15       U     LE3       T     1     1  at_home     other  ...   \n",
       "3     GP   F   15       U     GT3       T     4     2   health  services  ...   \n",
       "4     GP   F   16       U     GT3       T     3     3    other     other  ...   \n",
       "\n",
       "  famrel freetime  goout  Dalc  Walc health absences  G1  G2  G3  \n",
       "0      4        3      4     1     1      3        6   5   6   6  \n",
       "1      5        3      3     1     1      3        4   5   5   6  \n",
       "2      4        3      2     2     3      3       10   7   8  10  \n",
       "3      3        2      2     1     1      5        2  15  14  15  \n",
       "4      4        3      2     1     2      5        4   6  10  10  \n",
       "\n",
       "[5 rows x 33 columns]"
      ]
     },
     "execution_count": 57,
     "metadata": {},
     "output_type": "execute_result"
    }
   ],
   "source": [
    "# You can also create a new column\n",
    "df2 = pd.read_csv('student-mat.csv')\n",
    "df2.head() "
   ]
  },
  {
   "cell_type": "code",
   "execution_count": 58,
   "id": "e55bbb7e",
   "metadata": {
    "ExecuteTime": {
     "end_time": "2021-07-30T13:19:30.530484Z",
     "start_time": "2021-07-30T13:19:30.521347Z"
    }
   },
   "outputs": [],
   "source": [
    "df2['school name'] = df2['school'].replace({'GP':'Gabriel Pereira', 'MS':'Mousinho da Silveira'})"
   ]
  },
  {
   "cell_type": "code",
   "execution_count": 59,
   "id": "6d02fe0e",
   "metadata": {
    "ExecuteTime": {
     "end_time": "2021-07-30T13:19:30.715432Z",
     "start_time": "2021-07-30T13:19:30.705376Z"
    }
   },
   "outputs": [
    {
     "data": {
      "text/html": [
       "<div>\n",
       "<style scoped>\n",
       "    .dataframe tbody tr th:only-of-type {\n",
       "        vertical-align: middle;\n",
       "    }\n",
       "\n",
       "    .dataframe tbody tr th {\n",
       "        vertical-align: top;\n",
       "    }\n",
       "\n",
       "    .dataframe thead th {\n",
       "        text-align: right;\n",
       "    }\n",
       "</style>\n",
       "<table border=\"1\" class=\"dataframe\">\n",
       "  <thead>\n",
       "    <tr style=\"text-align: right;\">\n",
       "      <th></th>\n",
       "      <th>school</th>\n",
       "      <th>school name</th>\n",
       "    </tr>\n",
       "  </thead>\n",
       "  <tbody>\n",
       "    <tr>\n",
       "      <th>0</th>\n",
       "      <td>GP</td>\n",
       "      <td>Gabriel Pereira</td>\n",
       "    </tr>\n",
       "    <tr>\n",
       "      <th>1</th>\n",
       "      <td>GP</td>\n",
       "      <td>Gabriel Pereira</td>\n",
       "    </tr>\n",
       "    <tr>\n",
       "      <th>2</th>\n",
       "      <td>GP</td>\n",
       "      <td>Gabriel Pereira</td>\n",
       "    </tr>\n",
       "    <tr>\n",
       "      <th>3</th>\n",
       "      <td>GP</td>\n",
       "      <td>Gabriel Pereira</td>\n",
       "    </tr>\n",
       "    <tr>\n",
       "      <th>4</th>\n",
       "      <td>GP</td>\n",
       "      <td>Gabriel Pereira</td>\n",
       "    </tr>\n",
       "  </tbody>\n",
       "</table>\n",
       "</div>"
      ],
      "text/plain": [
       "  school      school name\n",
       "0     GP  Gabriel Pereira\n",
       "1     GP  Gabriel Pereira\n",
       "2     GP  Gabriel Pereira\n",
       "3     GP  Gabriel Pereira\n",
       "4     GP  Gabriel Pereira"
      ]
     },
     "execution_count": 59,
     "metadata": {},
     "output_type": "execute_result"
    }
   ],
   "source": [
    "df2[['school','school name']].head()"
   ]
  },
  {
   "cell_type": "code",
   "execution_count": 60,
   "id": "ae342bb6",
   "metadata": {
    "ExecuteTime": {
     "end_time": "2021-07-30T13:19:31.091858Z",
     "start_time": "2021-07-30T13:19:31.081777Z"
    }
   },
   "outputs": [],
   "source": [
    "# Here, we successfully created a new column out of an existing column"
   ]
  },
  {
   "cell_type": "code",
   "execution_count": 61,
   "id": "b0aa6c09",
   "metadata": {
    "ExecuteTime": {
     "end_time": "2021-07-30T13:19:31.461586Z",
     "start_time": "2021-07-30T13:19:31.458014Z"
    }
   },
   "outputs": [],
   "source": [
    "# One Hot Encoding \n",
    "# We can use the get_dummies function to convert a categorical\n",
    "# variable to one hot encoding\n",
    "# Converting categorical independent variables to multiple \n",
    "# binary columns\n",
    "# Let's look at the sex column"
   ]
  },
  {
   "cell_type": "code",
   "execution_count": 62,
   "id": "6ed799f6",
   "metadata": {
    "ExecuteTime": {
     "end_time": "2021-07-30T13:19:31.862897Z",
     "start_time": "2021-07-30T13:19:31.848960Z"
    }
   },
   "outputs": [
    {
     "data": {
      "text/plain": [
       "0    F\n",
       "1    F\n",
       "2    F\n",
       "3    F\n",
       "4    F\n",
       "Name: sex, dtype: object"
      ]
     },
     "execution_count": 62,
     "metadata": {},
     "output_type": "execute_result"
    }
   ],
   "source": [
    "# Here is a gender variable\n",
    "df2['sex'].head()"
   ]
  },
  {
   "cell_type": "code",
   "execution_count": 63,
   "id": "69bc9317",
   "metadata": {
    "ExecuteTime": {
     "end_time": "2021-07-30T13:19:32.064338Z",
     "start_time": "2021-07-30T13:19:32.055536Z"
    },
    "scrolled": true
   },
   "outputs": [
    {
     "data": {
      "text/plain": [
       "390    M\n",
       "391    M\n",
       "392    M\n",
       "393    M\n",
       "394    M\n",
       "Name: sex, dtype: object"
      ]
     },
     "execution_count": 63,
     "metadata": {},
     "output_type": "execute_result"
    }
   ],
   "source": [
    "df2['sex'].tail()"
   ]
  },
  {
   "cell_type": "code",
   "execution_count": 64,
   "id": "b83f7b86",
   "metadata": {
    "ExecuteTime": {
     "end_time": "2021-07-30T13:19:32.321159Z",
     "start_time": "2021-07-30T13:19:32.312142Z"
    }
   },
   "outputs": [
    {
     "data": {
      "text/plain": [
       "array(['F', 'M'], dtype=object)"
      ]
     },
     "execution_count": 64,
     "metadata": {},
     "output_type": "execute_result"
    }
   ],
   "source": [
    "# Check for its uniqueness\n",
    "df2['sex'].unique() "
   ]
  },
  {
   "cell_type": "code",
   "execution_count": 65,
   "id": "1c292273",
   "metadata": {
    "ExecuteTime": {
     "end_time": "2021-07-30T13:19:32.564530Z",
     "start_time": "2021-07-30T13:19:32.542451Z"
    }
   },
   "outputs": [
    {
     "data": {
      "text/html": [
       "<div>\n",
       "<style scoped>\n",
       "    .dataframe tbody tr th:only-of-type {\n",
       "        vertical-align: middle;\n",
       "    }\n",
       "\n",
       "    .dataframe tbody tr th {\n",
       "        vertical-align: top;\n",
       "    }\n",
       "\n",
       "    .dataframe thead th {\n",
       "        text-align: right;\n",
       "    }\n",
       "</style>\n",
       "<table border=\"1\" class=\"dataframe\">\n",
       "  <thead>\n",
       "    <tr style=\"text-align: right;\">\n",
       "      <th></th>\n",
       "      <th>sex</th>\n",
       "      <th>F</th>\n",
       "      <th>M</th>\n",
       "    </tr>\n",
       "  </thead>\n",
       "  <tbody>\n",
       "    <tr>\n",
       "      <th>0</th>\n",
       "      <td>F</td>\n",
       "      <td>1</td>\n",
       "      <td>0</td>\n",
       "    </tr>\n",
       "    <tr>\n",
       "      <th>1</th>\n",
       "      <td>F</td>\n",
       "      <td>1</td>\n",
       "      <td>0</td>\n",
       "    </tr>\n",
       "    <tr>\n",
       "      <th>2</th>\n",
       "      <td>F</td>\n",
       "      <td>1</td>\n",
       "      <td>0</td>\n",
       "    </tr>\n",
       "    <tr>\n",
       "      <th>3</th>\n",
       "      <td>F</td>\n",
       "      <td>1</td>\n",
       "      <td>0</td>\n",
       "    </tr>\n",
       "    <tr>\n",
       "      <th>4</th>\n",
       "      <td>F</td>\n",
       "      <td>1</td>\n",
       "      <td>0</td>\n",
       "    </tr>\n",
       "  </tbody>\n",
       "</table>\n",
       "</div>"
      ],
      "text/plain": [
       "  sex  F  M\n",
       "0   F  1  0\n",
       "1   F  1  0\n",
       "2   F  1  0\n",
       "3   F  1  0\n",
       "4   F  1  0"
      ]
     },
     "execution_count": 65,
     "metadata": {},
     "output_type": "execute_result"
    }
   ],
   "source": [
    "# Using the get_dummies to convert the sex column to binary columns\n",
    "sex_dummies = pd.get_dummies(data=df2['sex'],columns=['sex'])\n",
    "\n",
    "# Concat the sex column with the one-hot encoded columns\n",
    "pd.concat([df2['sex'],sex_dummies],axis=1).head() "
   ]
  },
  {
   "cell_type": "code",
   "execution_count": 66,
   "id": "1d674a68",
   "metadata": {
    "ExecuteTime": {
     "end_time": "2021-07-30T13:19:32.777788Z",
     "start_time": "2021-07-30T13:19:32.761201Z"
    }
   },
   "outputs": [
    {
     "data": {
      "text/plain": [
       "0    18\n",
       "1    17\n",
       "2    15\n",
       "3    15\n",
       "4    16\n",
       "Name: age, dtype: int64"
      ]
     },
     "execution_count": 66,
     "metadata": {},
     "output_type": "execute_result"
    }
   ],
   "source": [
    "# Using the cut() function\n",
    "df2['age'].head()"
   ]
  },
  {
   "cell_type": "code",
   "execution_count": 67,
   "id": "ff7a1b12",
   "metadata": {
    "ExecuteTime": {
     "end_time": "2021-07-30T13:19:32.959203Z",
     "start_time": "2021-07-30T13:19:32.949198Z"
    }
   },
   "outputs": [
    {
     "data": {
      "text/plain": [
       "390    20\n",
       "391    17\n",
       "392    21\n",
       "393    18\n",
       "394    19\n",
       "Name: age, dtype: int64"
      ]
     },
     "execution_count": 67,
     "metadata": {},
     "output_type": "execute_result"
    }
   ],
   "source": [
    "df2['age'].tail()  "
   ]
  },
  {
   "cell_type": "code",
   "execution_count": 68,
   "id": "015f94de",
   "metadata": {
    "ExecuteTime": {
     "end_time": "2021-07-30T13:19:33.180450Z",
     "start_time": "2021-07-30T13:19:33.167696Z"
    }
   },
   "outputs": [],
   "source": [
    "# Let's use binning for the age column\n",
    "# Using qcut, we can discretize the age values\n",
    "# into quantiles or frequency groups"
   ]
  },
  {
   "cell_type": "code",
   "execution_count": 69,
   "id": "0e28a38a",
   "metadata": {
    "ExecuteTime": {
     "end_time": "2021-07-30T13:19:34.166256Z",
     "start_time": "2021-07-30T13:19:34.156019Z"
    }
   },
   "outputs": [
    {
     "data": {
      "text/plain": [
       "count    395.000000\n",
       "mean      16.696203\n",
       "std        1.276043\n",
       "min       15.000000\n",
       "25%       16.000000\n",
       "50%       17.000000\n",
       "75%       18.000000\n",
       "max       22.000000\n",
       "Name: age, dtype: float64"
      ]
     },
     "execution_count": 69,
     "metadata": {},
     "output_type": "execute_result"
    }
   ],
   "source": [
    "# let's see the distribution of the age values\n",
    "df2['age'].describe()"
   ]
  },
  {
   "cell_type": "code",
   "execution_count": 70,
   "id": "e668d636",
   "metadata": {
    "ExecuteTime": {
     "end_time": "2021-07-30T13:19:34.710429Z",
     "start_time": "2021-07-30T13:19:34.702070Z"
    }
   },
   "outputs": [],
   "source": [
    "# Create 4 groups for these age distribution\n",
    "groups = ['Young Teens', 'Old Teens', 'Early Twenties', 'Twenties']"
   ]
  },
  {
   "cell_type": "code",
   "execution_count": 71,
   "id": "9fbcd9fb",
   "metadata": {
    "ExecuteTime": {
     "end_time": "2021-07-30T13:19:34.918212Z",
     "start_time": "2021-07-30T13:19:34.898931Z"
    }
   },
   "outputs": [
    {
     "data": {
      "text/html": [
       "<div>\n",
       "<style scoped>\n",
       "    .dataframe tbody tr th:only-of-type {\n",
       "        vertical-align: middle;\n",
       "    }\n",
       "\n",
       "    .dataframe tbody tr th {\n",
       "        vertical-align: top;\n",
       "    }\n",
       "\n",
       "    .dataframe thead th {\n",
       "        text-align: right;\n",
       "    }\n",
       "</style>\n",
       "<table border=\"1\" class=\"dataframe\">\n",
       "  <thead>\n",
       "    <tr style=\"text-align: right;\">\n",
       "      <th></th>\n",
       "      <th>age</th>\n",
       "      <th>age_group</th>\n",
       "    </tr>\n",
       "  </thead>\n",
       "  <tbody>\n",
       "    <tr>\n",
       "      <th>0</th>\n",
       "      <td>18</td>\n",
       "      <td>Early Twenties</td>\n",
       "    </tr>\n",
       "    <tr>\n",
       "      <th>1</th>\n",
       "      <td>17</td>\n",
       "      <td>Old Teens</td>\n",
       "    </tr>\n",
       "    <tr>\n",
       "      <th>2</th>\n",
       "      <td>15</td>\n",
       "      <td>Young Teens</td>\n",
       "    </tr>\n",
       "    <tr>\n",
       "      <th>3</th>\n",
       "      <td>15</td>\n",
       "      <td>Young Teens</td>\n",
       "    </tr>\n",
       "    <tr>\n",
       "      <th>4</th>\n",
       "      <td>16</td>\n",
       "      <td>Young Teens</td>\n",
       "    </tr>\n",
       "  </tbody>\n",
       "</table>\n",
       "</div>"
      ],
      "text/plain": [
       "   age       age_group\n",
       "0   18  Early Twenties\n",
       "1   17       Old Teens\n",
       "2   15     Young Teens\n",
       "3   15     Young Teens\n",
       "4   16     Young Teens"
      ]
     },
     "execution_count": 71,
     "metadata": {},
     "output_type": "execute_result"
    }
   ],
   "source": [
    "df2['age_group'] = pd.qcut(df2['age'], q=4, labels=groups)\n",
    "df2[['age','age_group']].head()"
   ]
  },
  {
   "cell_type": "code",
   "execution_count": 72,
   "id": "06bc74ef",
   "metadata": {
    "ExecuteTime": {
     "end_time": "2021-07-30T13:19:35.147253Z",
     "start_time": "2021-07-30T13:19:35.128937Z"
    }
   },
   "outputs": [
    {
     "data": {
      "text/html": [
       "<div>\n",
       "<style scoped>\n",
       "    .dataframe tbody tr th:only-of-type {\n",
       "        vertical-align: middle;\n",
       "    }\n",
       "\n",
       "    .dataframe tbody tr th {\n",
       "        vertical-align: top;\n",
       "    }\n",
       "\n",
       "    .dataframe thead th {\n",
       "        text-align: right;\n",
       "    }\n",
       "</style>\n",
       "<table border=\"1\" class=\"dataframe\">\n",
       "  <thead>\n",
       "    <tr style=\"text-align: right;\">\n",
       "      <th></th>\n",
       "      <th>age</th>\n",
       "      <th>age_group</th>\n",
       "    </tr>\n",
       "  </thead>\n",
       "  <tbody>\n",
       "    <tr>\n",
       "      <th>390</th>\n",
       "      <td>20</td>\n",
       "      <td>Twenties</td>\n",
       "    </tr>\n",
       "    <tr>\n",
       "      <th>391</th>\n",
       "      <td>17</td>\n",
       "      <td>Old Teens</td>\n",
       "    </tr>\n",
       "    <tr>\n",
       "      <th>392</th>\n",
       "      <td>21</td>\n",
       "      <td>Twenties</td>\n",
       "    </tr>\n",
       "    <tr>\n",
       "      <th>393</th>\n",
       "      <td>18</td>\n",
       "      <td>Early Twenties</td>\n",
       "    </tr>\n",
       "    <tr>\n",
       "      <th>394</th>\n",
       "      <td>19</td>\n",
       "      <td>Twenties</td>\n",
       "    </tr>\n",
       "  </tbody>\n",
       "</table>\n",
       "</div>"
      ],
      "text/plain": [
       "     age       age_group\n",
       "390   20        Twenties\n",
       "391   17       Old Teens\n",
       "392   21        Twenties\n",
       "393   18  Early Twenties\n",
       "394   19        Twenties"
      ]
     },
     "execution_count": 72,
     "metadata": {},
     "output_type": "execute_result"
    }
   ],
   "source": [
    "df2[['age','age_group']].tail()"
   ]
  },
  {
   "cell_type": "code",
   "execution_count": 73,
   "id": "9fcf1586",
   "metadata": {
    "ExecuteTime": {
     "end_time": "2021-07-30T13:19:35.350127Z",
     "start_time": "2021-07-30T13:19:35.337792Z"
    }
   },
   "outputs": [
    {
     "data": {
      "text/html": [
       "<div>\n",
       "<style scoped>\n",
       "    .dataframe tbody tr th:only-of-type {\n",
       "        vertical-align: middle;\n",
       "    }\n",
       "\n",
       "    .dataframe tbody tr th {\n",
       "        vertical-align: top;\n",
       "    }\n",
       "\n",
       "    .dataframe thead th {\n",
       "        text-align: right;\n",
       "    }\n",
       "</style>\n",
       "<table border=\"1\" class=\"dataframe\">\n",
       "  <thead>\n",
       "    <tr style=\"text-align: right;\">\n",
       "      <th></th>\n",
       "      <th>age_group</th>\n",
       "    </tr>\n",
       "  </thead>\n",
       "  <tbody>\n",
       "    <tr>\n",
       "      <th>Young Teens</th>\n",
       "      <td>186</td>\n",
       "    </tr>\n",
       "    <tr>\n",
       "      <th>Old Teens</th>\n",
       "      <td>98</td>\n",
       "    </tr>\n",
       "    <tr>\n",
       "      <th>Early Twenties</th>\n",
       "      <td>82</td>\n",
       "    </tr>\n",
       "    <tr>\n",
       "      <th>Twenties</th>\n",
       "      <td>29</td>\n",
       "    </tr>\n",
       "  </tbody>\n",
       "</table>\n",
       "</div>"
      ],
      "text/plain": [
       "                age_group\n",
       "Young Teens           186\n",
       "Old Teens              98\n",
       "Early Twenties         82\n",
       "Twenties               29"
      ]
     },
     "execution_count": 73,
     "metadata": {},
     "output_type": "execute_result"
    }
   ],
   "source": [
    "# Check the frequency\n",
    "pd.DataFrame(df2['age_group'].value_counts())"
   ]
  },
  {
   "cell_type": "code",
   "execution_count": 74,
   "id": "7d2cbaeb",
   "metadata": {
    "ExecuteTime": {
     "end_time": "2021-07-30T13:19:36.554500Z",
     "start_time": "2021-07-30T13:19:36.356069Z"
    }
   },
   "outputs": [
    {
     "data": {
      "image/png": "[encoded data removed]",
      "text/plain": [
       "<Figure size 576x288 with 1 Axes>"
      ]
     },
     "metadata": {
      "needs_background": "light"
     },
     "output_type": "display_data"
    }
   ],
   "source": [
    "# Plot a bar graph of the frequency distribution \n",
    "pd.DataFrame(df2['age_group'].value_counts()).plot(kind='bar',figsize=(8,4));"
   ]
  },
  {
   "cell_type": "code",
   "execution_count": 75,
   "id": "e847d7e8",
   "metadata": {
    "ExecuteTime": {
     "end_time": "2021-07-30T13:19:36.764459Z",
     "start_time": "2021-07-30T13:19:36.760128Z"
    }
   },
   "outputs": [],
   "source": [
    "# The cut function is also for discretization of a continous\n",
    "# The cut function explicitly provides the bin edges"
   ]
  },
  {
   "cell_type": "code",
   "execution_count": 76,
   "id": "4b46a3b7",
   "metadata": {
    "ExecuteTime": {
     "end_time": "2021-07-30T13:19:37.065552Z",
     "start_time": "2021-07-30T13:19:37.044256Z"
    }
   },
   "outputs": [
    {
     "data": {
      "text/html": [
       "<div>\n",
       "<style scoped>\n",
       "    .dataframe tbody tr th:only-of-type {\n",
       "        vertical-align: middle;\n",
       "    }\n",
       "\n",
       "    .dataframe tbody tr th {\n",
       "        vertical-align: top;\n",
       "    }\n",
       "\n",
       "    .dataframe thead th {\n",
       "        text-align: right;\n",
       "    }\n",
       "</style>\n",
       "<table border=\"1\" class=\"dataframe\">\n",
       "  <thead>\n",
       "    <tr style=\"text-align: right;\">\n",
       "      <th></th>\n",
       "      <th>age</th>\n",
       "      <th>sex</th>\n",
       "      <th>cp</th>\n",
       "      <th>trestbps</th>\n",
       "      <th>chol</th>\n",
       "      <th>fbs</th>\n",
       "      <th>restecg</th>\n",
       "      <th>thalach</th>\n",
       "      <th>exang</th>\n",
       "      <th>oldpeak</th>\n",
       "      <th>slope</th>\n",
       "      <th>ca</th>\n",
       "      <th>thal</th>\n",
       "      <th>target</th>\n",
       "    </tr>\n",
       "  </thead>\n",
       "  <tbody>\n",
       "    <tr>\n",
       "      <th>0</th>\n",
       "      <td>63</td>\n",
       "      <td>1</td>\n",
       "      <td>3</td>\n",
       "      <td>145</td>\n",
       "      <td>233</td>\n",
       "      <td>1</td>\n",
       "      <td>0</td>\n",
       "      <td>150</td>\n",
       "      <td>0</td>\n",
       "      <td>2.3</td>\n",
       "      <td>0</td>\n",
       "      <td>0</td>\n",
       "      <td>1</td>\n",
       "      <td>1</td>\n",
       "    </tr>\n",
       "    <tr>\n",
       "      <th>1</th>\n",
       "      <td>37</td>\n",
       "      <td>1</td>\n",
       "      <td>2</td>\n",
       "      <td>130</td>\n",
       "      <td>250</td>\n",
       "      <td>0</td>\n",
       "      <td>1</td>\n",
       "      <td>187</td>\n",
       "      <td>0</td>\n",
       "      <td>3.5</td>\n",
       "      <td>0</td>\n",
       "      <td>0</td>\n",
       "      <td>2</td>\n",
       "      <td>1</td>\n",
       "    </tr>\n",
       "    <tr>\n",
       "      <th>2</th>\n",
       "      <td>41</td>\n",
       "      <td>0</td>\n",
       "      <td>1</td>\n",
       "      <td>130</td>\n",
       "      <td>204</td>\n",
       "      <td>0</td>\n",
       "      <td>0</td>\n",
       "      <td>172</td>\n",
       "      <td>0</td>\n",
       "      <td>1.4</td>\n",
       "      <td>2</td>\n",
       "      <td>0</td>\n",
       "      <td>2</td>\n",
       "      <td>1</td>\n",
       "    </tr>\n",
       "    <tr>\n",
       "      <th>3</th>\n",
       "      <td>56</td>\n",
       "      <td>1</td>\n",
       "      <td>1</td>\n",
       "      <td>120</td>\n",
       "      <td>236</td>\n",
       "      <td>0</td>\n",
       "      <td>1</td>\n",
       "      <td>178</td>\n",
       "      <td>0</td>\n",
       "      <td>0.8</td>\n",
       "      <td>2</td>\n",
       "      <td>0</td>\n",
       "      <td>2</td>\n",
       "      <td>1</td>\n",
       "    </tr>\n",
       "    <tr>\n",
       "      <th>4</th>\n",
       "      <td>57</td>\n",
       "      <td>0</td>\n",
       "      <td>0</td>\n",
       "      <td>120</td>\n",
       "      <td>354</td>\n",
       "      <td>0</td>\n",
       "      <td>1</td>\n",
       "      <td>163</td>\n",
       "      <td>1</td>\n",
       "      <td>0.6</td>\n",
       "      <td>2</td>\n",
       "      <td>0</td>\n",
       "      <td>2</td>\n",
       "      <td>1</td>\n",
       "    </tr>\n",
       "  </tbody>\n",
       "</table>\n",
       "</div>"
      ],
      "text/plain": [
       "   age  sex  cp  trestbps  chol  fbs  restecg  thalach  exang  oldpeak  slope  \\\n",
       "0   63    1   3       145   233    1        0      150      0      2.3      0   \n",
       "1   37    1   2       130   250    0        1      187      0      3.5      0   \n",
       "2   41    0   1       130   204    0        0      172      0      1.4      2   \n",
       "3   56    1   1       120   236    0        1      178      0      0.8      2   \n",
       "4   57    0   0       120   354    0        1      163      1      0.6      2   \n",
       "\n",
       "   ca  thal  target  \n",
       "0   0     1       1  \n",
       "1   0     2       1  \n",
       "2   0     2       1  \n",
       "3   0     2       1  \n",
       "4   0     2       1  "
      ]
     },
     "execution_count": 76,
     "metadata": {},
     "output_type": "execute_result"
    }
   ],
   "source": [
    "# The first 5 observations of the heart disease dataframe\n",
    "df3 = pd.read_csv('heart.csv')\n",
    "df3.head()"
   ]
  },
  {
   "cell_type": "code",
   "execution_count": 77,
   "id": "47c990e4",
   "metadata": {
    "ExecuteTime": {
     "end_time": "2021-07-30T13:19:37.789584Z",
     "start_time": "2021-07-30T13:19:37.780435Z"
    }
   },
   "outputs": [
    {
     "data": {
      "text/plain": [
       "0    63\n",
       "1    37\n",
       "2    41\n",
       "3    56\n",
       "4    57\n",
       "Name: age, dtype: int64"
      ]
     },
     "execution_count": 77,
     "metadata": {},
     "output_type": "execute_result"
    }
   ],
   "source": [
    "df3['age'].head() "
   ]
  },
  {
   "cell_type": "code",
   "execution_count": 78,
   "id": "56dff059",
   "metadata": {
    "ExecuteTime": {
     "end_time": "2021-07-30T13:19:38.495074Z",
     "start_time": "2021-07-30T13:19:38.484777Z"
    }
   },
   "outputs": [
    {
     "data": {
      "text/plain": [
       "298    57\n",
       "299    45\n",
       "300    68\n",
       "301    57\n",
       "302    57\n",
       "Name: age, dtype: int64"
      ]
     },
     "execution_count": 78,
     "metadata": {},
     "output_type": "execute_result"
    }
   ],
   "source": [
    "df3['age'].tail() "
   ]
  },
  {
   "cell_type": "code",
   "execution_count": 79,
   "id": "36f1faff",
   "metadata": {
    "ExecuteTime": {
     "end_time": "2021-07-30T13:19:40.186389Z",
     "start_time": "2021-07-30T13:19:40.181275Z"
    }
   },
   "outputs": [
    {
     "data": {
      "text/plain": [
       "29"
      ]
     },
     "execution_count": 79,
     "metadata": {},
     "output_type": "execute_result"
    }
   ],
   "source": [
    "df3['age'].min()   "
   ]
  },
  {
   "cell_type": "code",
   "execution_count": 80,
   "id": "0fa2bd6e",
   "metadata": {
    "ExecuteTime": {
     "end_time": "2021-07-30T13:19:40.500852Z",
     "start_time": "2021-07-30T13:19:40.494397Z"
    }
   },
   "outputs": [
    {
     "data": {
      "text/plain": [
       "77"
      ]
     },
     "execution_count": 80,
     "metadata": {},
     "output_type": "execute_result"
    }
   ],
   "source": [
    "df3['age'].max() "
   ]
  },
  {
   "cell_type": "code",
   "execution_count": 81,
   "id": "062dcf04",
   "metadata": {
    "ExecuteTime": {
     "end_time": "2021-07-30T13:19:40.766817Z",
     "start_time": "2021-07-30T13:19:40.763521Z"
    }
   },
   "outputs": [],
   "source": [
    "# Define bins\n",
    "bins = [0,17,35,50,60,80]\n",
    "\n",
    "# Name of groups\n",
    "groups = ['Young/Teens','Youths','Adults','Mid-Age','Seniors']"
   ]
  },
  {
   "cell_type": "code",
   "execution_count": 82,
   "id": "6885fdd4",
   "metadata": {
    "ExecuteTime": {
     "end_time": "2021-07-30T13:19:43.315359Z",
     "start_time": "2021-07-30T13:19:43.288092Z"
    }
   },
   "outputs": [
    {
     "data": {
      "text/html": [
       "<div>\n",
       "<style scoped>\n",
       "    .dataframe tbody tr th:only-of-type {\n",
       "        vertical-align: middle;\n",
       "    }\n",
       "\n",
       "    .dataframe tbody tr th {\n",
       "        vertical-align: top;\n",
       "    }\n",
       "\n",
       "    .dataframe thead th {\n",
       "        text-align: right;\n",
       "    }\n",
       "</style>\n",
       "<table border=\"1\" class=\"dataframe\">\n",
       "  <thead>\n",
       "    <tr style=\"text-align: right;\">\n",
       "      <th></th>\n",
       "      <th>age</th>\n",
       "      <th>age_cut</th>\n",
       "    </tr>\n",
       "  </thead>\n",
       "  <tbody>\n",
       "    <tr>\n",
       "      <th>0</th>\n",
       "      <td>63</td>\n",
       "      <td>Seniors</td>\n",
       "    </tr>\n",
       "    <tr>\n",
       "      <th>1</th>\n",
       "      <td>37</td>\n",
       "      <td>Adults</td>\n",
       "    </tr>\n",
       "    <tr>\n",
       "      <th>2</th>\n",
       "      <td>41</td>\n",
       "      <td>Adults</td>\n",
       "    </tr>\n",
       "    <tr>\n",
       "      <th>3</th>\n",
       "      <td>56</td>\n",
       "      <td>Mid-Age</td>\n",
       "    </tr>\n",
       "    <tr>\n",
       "      <th>4</th>\n",
       "      <td>57</td>\n",
       "      <td>Mid-Age</td>\n",
       "    </tr>\n",
       "  </tbody>\n",
       "</table>\n",
       "</div>"
      ],
      "text/plain": [
       "   age  age_cut\n",
       "0   63  Seniors\n",
       "1   37   Adults\n",
       "2   41   Adults\n",
       "3   56  Mid-Age\n",
       "4   57  Mid-Age"
      ]
     },
     "execution_count": 82,
     "metadata": {},
     "output_type": "execute_result"
    }
   ],
   "source": [
    "# Using Cut Function\n",
    "df3['age_cut'] = pd.cut(df3['age'],bins=bins,labels=groups)\n",
    "df3[['age','age_cut']].head() "
   ]
  },
  {
   "cell_type": "code",
   "execution_count": 83,
   "id": "69ee6a06",
   "metadata": {
    "ExecuteTime": {
     "end_time": "2021-07-30T13:19:43.844735Z",
     "start_time": "2021-07-30T13:19:43.829426Z"
    }
   },
   "outputs": [
    {
     "data": {
      "text/html": [
       "<div>\n",
       "<style scoped>\n",
       "    .dataframe tbody tr th:only-of-type {\n",
       "        vertical-align: middle;\n",
       "    }\n",
       "\n",
       "    .dataframe tbody tr th {\n",
       "        vertical-align: top;\n",
       "    }\n",
       "\n",
       "    .dataframe thead th {\n",
       "        text-align: right;\n",
       "    }\n",
       "</style>\n",
       "<table border=\"1\" class=\"dataframe\">\n",
       "  <thead>\n",
       "    <tr style=\"text-align: right;\">\n",
       "      <th></th>\n",
       "      <th>age</th>\n",
       "      <th>age_cut</th>\n",
       "    </tr>\n",
       "  </thead>\n",
       "  <tbody>\n",
       "    <tr>\n",
       "      <th>298</th>\n",
       "      <td>57</td>\n",
       "      <td>Mid-Age</td>\n",
       "    </tr>\n",
       "    <tr>\n",
       "      <th>299</th>\n",
       "      <td>45</td>\n",
       "      <td>Adults</td>\n",
       "    </tr>\n",
       "    <tr>\n",
       "      <th>300</th>\n",
       "      <td>68</td>\n",
       "      <td>Seniors</td>\n",
       "    </tr>\n",
       "    <tr>\n",
       "      <th>301</th>\n",
       "      <td>57</td>\n",
       "      <td>Mid-Age</td>\n",
       "    </tr>\n",
       "    <tr>\n",
       "      <th>302</th>\n",
       "      <td>57</td>\n",
       "      <td>Mid-Age</td>\n",
       "    </tr>\n",
       "  </tbody>\n",
       "</table>\n",
       "</div>"
      ],
      "text/plain": [
       "     age  age_cut\n",
       "298   57  Mid-Age\n",
       "299   45   Adults\n",
       "300   68  Seniors\n",
       "301   57  Mid-Age\n",
       "302   57  Mid-Age"
      ]
     },
     "execution_count": 83,
     "metadata": {},
     "output_type": "execute_result"
    }
   ],
   "source": [
    "df3[['age','age_cut']].tail() "
   ]
  },
  {
   "cell_type": "code",
   "execution_count": 46,
   "id": "d0cd7e1f",
   "metadata": {
    "ExecuteTime": {
     "end_time": "2021-07-30T13:07:03.841462Z",
     "start_time": "2021-07-30T13:07:03.831093Z"
    }
   },
   "outputs": [
    {
     "data": {
      "text/html": [
       "<div>\n",
       "<style scoped>\n",
       "    .dataframe tbody tr th:only-of-type {\n",
       "        vertical-align: middle;\n",
       "    }\n",
       "\n",
       "    .dataframe tbody tr th {\n",
       "        vertical-align: top;\n",
       "    }\n",
       "\n",
       "    .dataframe thead th {\n",
       "        text-align: right;\n",
       "    }\n",
       "</style>\n",
       "<table border=\"1\" class=\"dataframe\">\n",
       "  <thead>\n",
       "    <tr style=\"text-align: right;\">\n",
       "      <th></th>\n",
       "      <th>age_cut</th>\n",
       "    </tr>\n",
       "  </thead>\n",
       "  <tbody>\n",
       "    <tr>\n",
       "      <th>Mid-Age</th>\n",
       "      <td>129</td>\n",
       "    </tr>\n",
       "    <tr>\n",
       "      <th>Adults</th>\n",
       "      <td>88</td>\n",
       "    </tr>\n",
       "    <tr>\n",
       "      <th>Seniors</th>\n",
       "      <td>79</td>\n",
       "    </tr>\n",
       "    <tr>\n",
       "      <th>Youths</th>\n",
       "      <td>7</td>\n",
       "    </tr>\n",
       "    <tr>\n",
       "      <th>Young/Teens</th>\n",
       "      <td>0</td>\n",
       "    </tr>\n",
       "  </tbody>\n",
       "</table>\n",
       "</div>"
      ],
      "text/plain": [
       "             age_cut\n",
       "Mid-Age          129\n",
       "Adults            88\n",
       "Seniors           79\n",
       "Youths             7\n",
       "Young/Teens        0"
      ]
     },
     "execution_count": 46,
     "metadata": {},
     "output_type": "execute_result"
    }
   ],
   "source": [
    "# Check the frequency\n",
    "pd.DataFrame(df3['age_cut'].value_counts())"
   ]
  },
  {
   "cell_type": "code",
   "execution_count": 309,
   "id": "47cd7de2",
   "metadata": {
    "ExecuteTime": {
     "end_time": "2021-07-27T12:29:24.789205Z",
     "start_time": "2021-07-27T12:29:23.870923Z"
    }
   },
   "outputs": [
    {
     "data": {
      "text/html": [
       "<div>\n",
       "<style scoped>\n",
       "    .dataframe tbody tr th:only-of-type {\n",
       "        vertical-align: middle;\n",
       "    }\n",
       "\n",
       "    .dataframe tbody tr th {\n",
       "        vertical-align: top;\n",
       "    }\n",
       "\n",
       "    .dataframe thead th {\n",
       "        text-align: right;\n",
       "    }\n",
       "</style>\n",
       "<table border=\"1\" class=\"dataframe\">\n",
       "  <thead>\n",
       "    <tr style=\"text-align: right;\">\n",
       "      <th></th>\n",
       "      <th>Unnamed: 0</th>\n",
       "      <th>petition_id</th>\n",
       "      <th>petition_ask</th>\n",
       "      <th>created_at</th>\n",
       "      <th>deleted_at</th>\n",
       "      <th>original_locale</th>\n",
       "      <th>title</th>\n",
       "      <th>description</th>\n",
       "      <th>targeting_description</th>\n",
       "      <th>letter_body</th>\n",
       "      <th>...</th>\n",
       "      <th>total_signup_count</th>\n",
       "      <th>supporter_message_count</th>\n",
       "      <th>hide_comments</th>\n",
       "      <th>hide_dm_action_panel</th>\n",
       "      <th>enable_human_verification</th>\n",
       "      <th>display_title</th>\n",
       "      <th>petition_title</th>\n",
       "      <th>petition_status</th>\n",
       "      <th>calculated_goal</th>\n",
       "      <th>progress</th>\n",
       "    </tr>\n",
       "  </thead>\n",
       "  <tbody>\n",
       "    <tr>\n",
       "      <th>0</th>\n",
       "      <td>0</td>\n",
       "      <td>28127009</td>\n",
       "      <td>Free Kusha and reunite elephant pair</td>\n",
       "      <td>2021-04-01T00:07:47Z</td>\n",
       "      <td>NaN</td>\n",
       "      <td>en-IN</td>\n",
       "      <td>Karnataka Forest Department: Free Kusha and re...</td>\n",
       "      <td>&lt;p&gt;Kusha, a male elephant from Dubare Elephant...</td>\n",
       "      <td>karnataka forest department, People for the Et...</td>\n",
       "      <td>Free Kusha and reunite elephant pair</td>\n",
       "      <td>...</td>\n",
       "      <td>84</td>\n",
       "      <td>NaN</td>\n",
       "      <td>False</td>\n",
       "      <td>False</td>\n",
       "      <td>False</td>\n",
       "      <td>Karnataka Forest Department: Free Kusha and re...</td>\n",
       "      <td>Karnataka Forest Department: Free Kusha and re...</td>\n",
       "      <td>active</td>\n",
       "      <td>7500</td>\n",
       "      <td>88.106667</td>\n",
       "    </tr>\n",
       "    <tr>\n",
       "      <th>1</th>\n",
       "      <td>1</td>\n",
       "      <td>28569017</td>\n",
       "      <td>Save Caracal cat in india</td>\n",
       "      <td>2021-04-25T19:56:09Z</td>\n",
       "      <td>NaN</td>\n",
       "      <td>en-IN</td>\n",
       "      <td>Save Caracal cat in India: @BoardWelfare, @Man...</td>\n",
       "      <td>&lt;p&gt;#savefloppainindia trend and sharing this p...</td>\n",
       "      <td>Shri Prakash Javedkar (Cabinet Minister - Mini...</td>\n",
       "      <td>Save Caracal cat in india</td>\n",
       "      <td>...</td>\n",
       "      <td>8</td>\n",
       "      <td>NaN</td>\n",
       "      <td>False</td>\n",
       "      <td>False</td>\n",
       "      <td>False</td>\n",
       "      <td>Save Caracal cat in India: @BoardWelfare, @Man...</td>\n",
       "      <td>Save Caracal cat in India: @BoardWelfare, @Man...</td>\n",
       "      <td>active</td>\n",
       "      <td>5000</td>\n",
       "      <td>52.920000</td>\n",
       "    </tr>\n",
       "    <tr>\n",
       "      <th>2</th>\n",
       "      <td>2</td>\n",
       "      <td>28566320</td>\n",
       "      <td>Animal Treatment and ABC Centre for Borivli, K...</td>\n",
       "      <td>2021-04-25T15:40:17Z</td>\n",
       "      <td>NaN</td>\n",
       "      <td>en-IN</td>\n",
       "      <td>Municipal Commissioner of Mumbai: Animal Treat...</td>\n",
       "      <td>&lt;p&gt;In Kandivli, Borivli Dahisar (Ward R), lack...</td>\n",
       "      <td>Municipal Commissioner of Mumbai</td>\n",
       "      <td>Animal Treatment and ABC Centre for Borivli, K...</td>\n",
       "      <td>...</td>\n",
       "      <td>108</td>\n",
       "      <td>NaN</td>\n",
       "      <td>False</td>\n",
       "      <td>False</td>\n",
       "      <td>False</td>\n",
       "      <td>Municipal Commissioner of Mumbai: Animal Treat...</td>\n",
       "      <td>Municipal Commissioner of Mumbai: Animal Treat...</td>\n",
       "      <td>active</td>\n",
       "      <td>2500</td>\n",
       "      <td>94.680000</td>\n",
       "    </tr>\n",
       "  </tbody>\n",
       "</table>\n",
       "<p>3 rows × 41 columns</p>\n",
       "</div>"
      ],
      "text/plain": [
       "   Unnamed: 0  petition_id                                       petition_ask  \\\n",
       "0           0     28127009               Free Kusha and reunite elephant pair   \n",
       "1           1     28569017                          Save Caracal cat in india   \n",
       "2           2     28566320  Animal Treatment and ABC Centre for Borivli, K...   \n",
       "\n",
       "             created_at  deleted_at original_locale  \\\n",
       "0  2021-04-01T00:07:47Z         NaN           en-IN   \n",
       "1  2021-04-25T19:56:09Z         NaN           en-IN   \n",
       "2  2021-04-25T15:40:17Z         NaN           en-IN   \n",
       "\n",
       "                                               title  \\\n",
       "0  Karnataka Forest Department: Free Kusha and re...   \n",
       "1  Save Caracal cat in India: @BoardWelfare, @Man...   \n",
       "2  Municipal Commissioner of Mumbai: Animal Treat...   \n",
       "\n",
       "                                         description  \\\n",
       "0  <p>Kusha, a male elephant from Dubare Elephant...   \n",
       "1  <p>#savefloppainindia trend and sharing this p...   \n",
       "2  <p>In Kandivli, Borivli Dahisar (Ward R), lack...   \n",
       "\n",
       "                               targeting_description  \\\n",
       "0  karnataka forest department, People for the Et...   \n",
       "1  Shri Prakash Javedkar (Cabinet Minister - Mini...   \n",
       "2                   Municipal Commissioner of Mumbai   \n",
       "\n",
       "                                         letter_body  ... total_signup_count  \\\n",
       "0               Free Kusha and reunite elephant pair  ...                 84   \n",
       "1                          Save Caracal cat in india  ...                  8   \n",
       "2  Animal Treatment and ABC Centre for Borivli, K...  ...                108   \n",
       "\n",
       "   supporter_message_count hide_comments hide_dm_action_panel  \\\n",
       "0                      NaN         False                False   \n",
       "1                      NaN         False                False   \n",
       "2                      NaN         False                False   \n",
       "\n",
       "  enable_human_verification  \\\n",
       "0                     False   \n",
       "1                     False   \n",
       "2                     False   \n",
       "\n",
       "                                       display_title  \\\n",
       "0  Karnataka Forest Department: Free Kusha and re...   \n",
       "1  Save Caracal cat in India: @BoardWelfare, @Man...   \n",
       "2  Municipal Commissioner of Mumbai: Animal Treat...   \n",
       "\n",
       "                                      petition_title  petition_status  \\\n",
       "0  Karnataka Forest Department: Free Kusha and re...           active   \n",
       "1  Save Caracal cat in India: @BoardWelfare, @Man...           active   \n",
       "2  Municipal Commissioner of Mumbai: Animal Treat...           active   \n",
       "\n",
       "   calculated_goal   progress  \n",
       "0             7500  88.106667  \n",
       "1             5000  52.920000  \n",
       "2             2500  94.680000  \n",
       "\n",
       "[3 rows x 41 columns]"
      ]
     },
     "execution_count": 309,
     "metadata": {},
     "output_type": "execute_result"
    }
   ],
   "source": [
    "# Apply function for Text Extraction\n",
    "# Let's look a data frame\n",
    "df4 = pd.read_csv('results.csv', low_memory=False)\n",
    "df4.head(3)"
   ]
  },
  {
   "cell_type": "code",
   "execution_count": 310,
   "id": "ac9938f5",
   "metadata": {
    "ExecuteTime": {
     "end_time": "2021-07-27T12:29:24.801033Z",
     "start_time": "2021-07-27T12:29:24.791891Z"
    }
   },
   "outputs": [
    {
     "data": {
      "text/plain": [
       "Index(['Unnamed: 0', 'petition_id', 'petition_ask', 'created_at', 'deleted_at',\n",
       "       'original_locale', 'title', 'description', 'targeting_description',\n",
       "       'letter_body', 'end_date', 'goal', 'slug', 'victory_date',\n",
       "       'victory_description', 'is_verified_victory', 'is_victory', 'is_pledge',\n",
       "       'sponsored_campaign', 'lat', 'long', 'displayed_signature_count',\n",
       "       'total_signature_count', 'weekly_signature_count', 'total_page_views',\n",
       "       'total_share_count', 'daily_signature_count', 'monthly_signature_count',\n",
       "       'daily_signup_count', 'weekly_signup_count', 'monthly_signup_count',\n",
       "       'total_signup_count', 'supporter_message_count', 'hide_comments',\n",
       "       'hide_dm_action_panel', 'enable_human_verification', 'display_title',\n",
       "       'petition_title', 'petition_status', 'calculated_goal', 'progress'],\n",
       "      dtype='object')"
      ]
     },
     "execution_count": 310,
     "metadata": {},
     "output_type": "execute_result"
    }
   ],
   "source": [
    "df4.columns"
   ]
  },
  {
   "cell_type": "code",
   "execution_count": 311,
   "id": "b80671b6",
   "metadata": {
    "ExecuteTime": {
     "end_time": "2021-07-27T12:29:24.821243Z",
     "start_time": "2021-07-27T12:29:24.804094Z"
    }
   },
   "outputs": [],
   "source": [
    "df4.drop(columns=['Unnamed: 0'],inplace=True)"
   ]
  },
  {
   "cell_type": "code",
   "execution_count": 312,
   "id": "467e7a7b",
   "metadata": {
    "ExecuteTime": {
     "end_time": "2021-07-27T12:29:24.871919Z",
     "start_time": "2021-07-27T12:29:24.826886Z"
    }
   },
   "outputs": [
    {
     "data": {
      "text/html": [
       "<div>\n",
       "<style scoped>\n",
       "    .dataframe tbody tr th:only-of-type {\n",
       "        vertical-align: middle;\n",
       "    }\n",
       "\n",
       "    .dataframe tbody tr th {\n",
       "        vertical-align: top;\n",
       "    }\n",
       "\n",
       "    .dataframe thead th {\n",
       "        text-align: right;\n",
       "    }\n",
       "</style>\n",
       "<table border=\"1\" class=\"dataframe\">\n",
       "  <thead>\n",
       "    <tr style=\"text-align: right;\">\n",
       "      <th></th>\n",
       "      <th>petition_id</th>\n",
       "      <th>petition_ask</th>\n",
       "      <th>created_at</th>\n",
       "      <th>deleted_at</th>\n",
       "      <th>original_locale</th>\n",
       "      <th>title</th>\n",
       "      <th>description</th>\n",
       "      <th>targeting_description</th>\n",
       "      <th>letter_body</th>\n",
       "      <th>end_date</th>\n",
       "      <th>...</th>\n",
       "      <th>total_signup_count</th>\n",
       "      <th>supporter_message_count</th>\n",
       "      <th>hide_comments</th>\n",
       "      <th>hide_dm_action_panel</th>\n",
       "      <th>enable_human_verification</th>\n",
       "      <th>display_title</th>\n",
       "      <th>petition_title</th>\n",
       "      <th>petition_status</th>\n",
       "      <th>calculated_goal</th>\n",
       "      <th>progress</th>\n",
       "    </tr>\n",
       "  </thead>\n",
       "  <tbody>\n",
       "    <tr>\n",
       "      <th>0</th>\n",
       "      <td>28127009</td>\n",
       "      <td>Free Kusha and reunite elephant pair</td>\n",
       "      <td>2021-04-01T00:07:47Z</td>\n",
       "      <td>NaN</td>\n",
       "      <td>en-IN</td>\n",
       "      <td>Karnataka Forest Department: Free Kusha and re...</td>\n",
       "      <td>&lt;p&gt;Kusha, a male elephant from Dubare Elephant...</td>\n",
       "      <td>karnataka forest department, People for the Et...</td>\n",
       "      <td>Free Kusha and reunite elephant pair</td>\n",
       "      <td>NaN</td>\n",
       "      <td>...</td>\n",
       "      <td>84</td>\n",
       "      <td>NaN</td>\n",
       "      <td>False</td>\n",
       "      <td>False</td>\n",
       "      <td>False</td>\n",
       "      <td>Karnataka Forest Department: Free Kusha and re...</td>\n",
       "      <td>Karnataka Forest Department: Free Kusha and re...</td>\n",
       "      <td>active</td>\n",
       "      <td>7500</td>\n",
       "      <td>88.106667</td>\n",
       "    </tr>\n",
       "    <tr>\n",
       "      <th>1</th>\n",
       "      <td>28569017</td>\n",
       "      <td>Save Caracal cat in india</td>\n",
       "      <td>2021-04-25T19:56:09Z</td>\n",
       "      <td>NaN</td>\n",
       "      <td>en-IN</td>\n",
       "      <td>Save Caracal cat in India: @BoardWelfare, @Man...</td>\n",
       "      <td>&lt;p&gt;#savefloppainindia trend and sharing this p...</td>\n",
       "      <td>Shri Prakash Javedkar (Cabinet Minister - Mini...</td>\n",
       "      <td>Save Caracal cat in india</td>\n",
       "      <td>NaN</td>\n",
       "      <td>...</td>\n",
       "      <td>8</td>\n",
       "      <td>NaN</td>\n",
       "      <td>False</td>\n",
       "      <td>False</td>\n",
       "      <td>False</td>\n",
       "      <td>Save Caracal cat in India: @BoardWelfare, @Man...</td>\n",
       "      <td>Save Caracal cat in India: @BoardWelfare, @Man...</td>\n",
       "      <td>active</td>\n",
       "      <td>5000</td>\n",
       "      <td>52.920000</td>\n",
       "    </tr>\n",
       "    <tr>\n",
       "      <th>2</th>\n",
       "      <td>28566320</td>\n",
       "      <td>Animal Treatment and ABC Centre for Borivli, K...</td>\n",
       "      <td>2021-04-25T15:40:17Z</td>\n",
       "      <td>NaN</td>\n",
       "      <td>en-IN</td>\n",
       "      <td>Municipal Commissioner of Mumbai: Animal Treat...</td>\n",
       "      <td>&lt;p&gt;In Kandivli, Borivli Dahisar (Ward R), lack...</td>\n",
       "      <td>Municipal Commissioner of Mumbai</td>\n",
       "      <td>Animal Treatment and ABC Centre for Borivli, K...</td>\n",
       "      <td>NaN</td>\n",
       "      <td>...</td>\n",
       "      <td>108</td>\n",
       "      <td>NaN</td>\n",
       "      <td>False</td>\n",
       "      <td>False</td>\n",
       "      <td>False</td>\n",
       "      <td>Municipal Commissioner of Mumbai: Animal Treat...</td>\n",
       "      <td>Municipal Commissioner of Mumbai: Animal Treat...</td>\n",
       "      <td>active</td>\n",
       "      <td>2500</td>\n",
       "      <td>94.680000</td>\n",
       "    </tr>\n",
       "    <tr>\n",
       "      <th>3</th>\n",
       "      <td>28543362</td>\n",
       "      <td>Seven Sebastian to say the N word once Unbanne...</td>\n",
       "      <td>2021-04-24T06:29:05Z</td>\n",
       "      <td>NaN</td>\n",
       "      <td>en-IN</td>\n",
       "      <td>Facebook: Seven Sebastian to say the N word on...</td>\n",
       "      <td>&lt;p&gt;SVen sebaAstian was banned on Fb and that w...</td>\n",
       "      <td>Facebook, Germany</td>\n",
       "      <td>Seven Sebastian to say the N word once Unbanne...</td>\n",
       "      <td>NaN</td>\n",
       "      <td>...</td>\n",
       "      <td>2</td>\n",
       "      <td>NaN</td>\n",
       "      <td>False</td>\n",
       "      <td>False</td>\n",
       "      <td>False</td>\n",
       "      <td>Facebook: Seven Sebastian to say the N word on...</td>\n",
       "      <td>Facebook: Seven Sebastian to say the N word on...</td>\n",
       "      <td>active</td>\n",
       "      <td>100</td>\n",
       "      <td>6.000000</td>\n",
       "    </tr>\n",
       "    <tr>\n",
       "      <th>4</th>\n",
       "      <td>28471106</td>\n",
       "      <td>Don't buy animals, Adopt them!</td>\n",
       "      <td>2021-04-20T03:45:00Z</td>\n",
       "      <td>NaN</td>\n",
       "      <td>en-IN</td>\n",
       "      <td>People for the Ethical Treatment of Animals (P...</td>\n",
       "      <td>&lt;p&gt;I feel that animals are not just a thing to...</td>\n",
       "      <td>People for the Ethical Treatment of Animals (P...</td>\n",
       "      <td>Don't buy animals, Adopt them!</td>\n",
       "      <td>NaN</td>\n",
       "      <td>...</td>\n",
       "      <td>46</td>\n",
       "      <td>NaN</td>\n",
       "      <td>False</td>\n",
       "      <td>False</td>\n",
       "      <td>False</td>\n",
       "      <td>People for the Ethical Treatment of Animals (P...</td>\n",
       "      <td>People for the Ethical Treatment of Animals (P...</td>\n",
       "      <td>active</td>\n",
       "      <td>500</td>\n",
       "      <td>97.200000</td>\n",
       "    </tr>\n",
       "  </tbody>\n",
       "</table>\n",
       "<p>5 rows × 40 columns</p>\n",
       "</div>"
      ],
      "text/plain": [
       "   petition_id                                       petition_ask  \\\n",
       "0     28127009               Free Kusha and reunite elephant pair   \n",
       "1     28569017                          Save Caracal cat in india   \n",
       "2     28566320  Animal Treatment and ABC Centre for Borivli, K...   \n",
       "3     28543362  Seven Sebastian to say the N word once Unbanne...   \n",
       "4     28471106                     Don't buy animals, Adopt them!   \n",
       "\n",
       "             created_at  deleted_at original_locale  \\\n",
       "0  2021-04-01T00:07:47Z         NaN           en-IN   \n",
       "1  2021-04-25T19:56:09Z         NaN           en-IN   \n",
       "2  2021-04-25T15:40:17Z         NaN           en-IN   \n",
       "3  2021-04-24T06:29:05Z         NaN           en-IN   \n",
       "4  2021-04-20T03:45:00Z         NaN           en-IN   \n",
       "\n",
       "                                               title  \\\n",
       "0  Karnataka Forest Department: Free Kusha and re...   \n",
       "1  Save Caracal cat in India: @BoardWelfare, @Man...   \n",
       "2  Municipal Commissioner of Mumbai: Animal Treat...   \n",
       "3  Facebook: Seven Sebastian to say the N word on...   \n",
       "4  People for the Ethical Treatment of Animals (P...   \n",
       "\n",
       "                                         description  \\\n",
       "0  <p>Kusha, a male elephant from Dubare Elephant...   \n",
       "1  <p>#savefloppainindia trend and sharing this p...   \n",
       "2  <p>In Kandivli, Borivli Dahisar (Ward R), lack...   \n",
       "3  <p>SVen sebaAstian was banned on Fb and that w...   \n",
       "4  <p>I feel that animals are not just a thing to...   \n",
       "\n",
       "                               targeting_description  \\\n",
       "0  karnataka forest department, People for the Et...   \n",
       "1  Shri Prakash Javedkar (Cabinet Minister - Mini...   \n",
       "2                   Municipal Commissioner of Mumbai   \n",
       "3                                  Facebook, Germany   \n",
       "4  People for the Ethical Treatment of Animals (P...   \n",
       "\n",
       "                                         letter_body end_date  ...  \\\n",
       "0               Free Kusha and reunite elephant pair      NaN  ...   \n",
       "1                          Save Caracal cat in india      NaN  ...   \n",
       "2  Animal Treatment and ABC Centre for Borivli, K...      NaN  ...   \n",
       "3  Seven Sebastian to say the N word once Unbanne...      NaN  ...   \n",
       "4                     Don't buy animals, Adopt them!      NaN  ...   \n",
       "\n",
       "   total_signup_count supporter_message_count hide_comments  \\\n",
       "0                  84                     NaN         False   \n",
       "1                   8                     NaN         False   \n",
       "2                 108                     NaN         False   \n",
       "3                   2                     NaN         False   \n",
       "4                  46                     NaN         False   \n",
       "\n",
       "  hide_dm_action_panel  enable_human_verification  \\\n",
       "0                False                      False   \n",
       "1                False                      False   \n",
       "2                False                      False   \n",
       "3                False                      False   \n",
       "4                False                      False   \n",
       "\n",
       "                                       display_title  \\\n",
       "0  Karnataka Forest Department: Free Kusha and re...   \n",
       "1  Save Caracal cat in India: @BoardWelfare, @Man...   \n",
       "2  Municipal Commissioner of Mumbai: Animal Treat...   \n",
       "3  Facebook: Seven Sebastian to say the N word on...   \n",
       "4  People for the Ethical Treatment of Animals (P...   \n",
       "\n",
       "                                      petition_title  petition_status  \\\n",
       "0  Karnataka Forest Department: Free Kusha and re...           active   \n",
       "1  Save Caracal cat in India: @BoardWelfare, @Man...           active   \n",
       "2  Municipal Commissioner of Mumbai: Animal Treat...           active   \n",
       "3  Facebook: Seven Sebastian to say the N word on...           active   \n",
       "4  People for the Ethical Treatment of Animals (P...           active   \n",
       "\n",
       "   calculated_goal   progress  \n",
       "0             7500  88.106667  \n",
       "1             5000  52.920000  \n",
       "2             2500  94.680000  \n",
       "3              100   6.000000  \n",
       "4              500  97.200000  \n",
       "\n",
       "[5 rows x 40 columns]"
      ]
     },
     "execution_count": 312,
     "metadata": {},
     "output_type": "execute_result"
    }
   ],
   "source": [
    "df4.head() "
   ]
  },
  {
   "cell_type": "code",
   "execution_count": 313,
   "id": "6f05d194",
   "metadata": {
    "ExecuteTime": {
     "end_time": "2021-07-27T12:29:24.904705Z",
     "start_time": "2021-07-27T12:29:24.875879Z"
    }
   },
   "outputs": [
    {
     "data": {
      "text/html": [
       "<div>\n",
       "<style scoped>\n",
       "    .dataframe tbody tr th:only-of-type {\n",
       "        vertical-align: middle;\n",
       "    }\n",
       "\n",
       "    .dataframe tbody tr th {\n",
       "        vertical-align: top;\n",
       "    }\n",
       "\n",
       "    .dataframe thead th {\n",
       "        text-align: right;\n",
       "    }\n",
       "</style>\n",
       "<table border=\"1\" class=\"dataframe\">\n",
       "  <thead>\n",
       "    <tr style=\"text-align: right;\">\n",
       "      <th></th>\n",
       "      <th>petition_title</th>\n",
       "      <th>petition_ask</th>\n",
       "    </tr>\n",
       "  </thead>\n",
       "  <tbody>\n",
       "    <tr>\n",
       "      <th>0</th>\n",
       "      <td>Free Kusha and reunite elephant pair</td>\n",
       "      <td>Free Kusha and reunite elephant pair</td>\n",
       "    </tr>\n",
       "    <tr>\n",
       "      <th>1</th>\n",
       "      <td>Save Caracal cat in india</td>\n",
       "      <td>Save Caracal cat in india</td>\n",
       "    </tr>\n",
       "    <tr>\n",
       "      <th>2</th>\n",
       "      <td>Animal Treatment and ABC Centre for Borivli, K...</td>\n",
       "      <td>Animal Treatment and ABC Centre for Borivli, K...</td>\n",
       "    </tr>\n",
       "    <tr>\n",
       "      <th>3</th>\n",
       "      <td>Seven Sebastian to say the N word once Unbanne...</td>\n",
       "      <td>Seven Sebastian to say the N word once Unbanne...</td>\n",
       "    </tr>\n",
       "    <tr>\n",
       "      <th>4</th>\n",
       "      <td>Don't buy animals, Adopt them!</td>\n",
       "      <td>Don't buy animals, Adopt them!</td>\n",
       "    </tr>\n",
       "  </tbody>\n",
       "</table>\n",
       "</div>"
      ],
      "text/plain": [
       "                                      petition_title  \\\n",
       "0               Free Kusha and reunite elephant pair   \n",
       "1                          Save Caracal cat in india   \n",
       "2  Animal Treatment and ABC Centre for Borivli, K...   \n",
       "3  Seven Sebastian to say the N word once Unbanne...   \n",
       "4                     Don't buy animals, Adopt them!   \n",
       "\n",
       "                                        petition_ask  \n",
       "0               Free Kusha and reunite elephant pair  \n",
       "1                          Save Caracal cat in india  \n",
       "2  Animal Treatment and ABC Centre for Borivli, K...  \n",
       "3  Seven Sebastian to say the N word once Unbanne...  \n",
       "4                     Don't buy animals, Adopt them!  "
      ]
     },
     "execution_count": 313,
     "metadata": {},
     "output_type": "execute_result"
    }
   ],
   "source": [
    "# Using the Pandas apply and or lambda to extract text\n",
    "df4['petition_title'] = df4['petition_ask'].apply(lambda x: x.strip())\n",
    "df4[['petition_title','petition_ask']].head()"
   ]
  },
  {
   "cell_type": "code",
   "execution_count": 314,
   "id": "42468349",
   "metadata": {
    "ExecuteTime": {
     "end_time": "2021-07-27T12:29:24.914232Z",
     "start_time": "2021-07-27T12:29:24.909006Z"
    }
   },
   "outputs": [],
   "source": [
    "def split_2(x):\n",
    "    x = x.split()\n",
    "    return x[:2]"
   ]
  },
  {
   "cell_type": "code",
   "execution_count": 315,
   "id": "b6640f90",
   "metadata": {
    "ExecuteTime": {
     "end_time": "2021-07-27T12:29:24.995936Z",
     "start_time": "2021-07-27T12:29:24.929611Z"
    }
   },
   "outputs": [
    {
     "data": {
      "text/html": [
       "<div>\n",
       "<style scoped>\n",
       "    .dataframe tbody tr th:only-of-type {\n",
       "        vertical-align: middle;\n",
       "    }\n",
       "\n",
       "    .dataframe tbody tr th {\n",
       "        vertical-align: top;\n",
       "    }\n",
       "\n",
       "    .dataframe thead th {\n",
       "        text-align: right;\n",
       "    }\n",
       "</style>\n",
       "<table border=\"1\" class=\"dataframe\">\n",
       "  <thead>\n",
       "    <tr style=\"text-align: right;\">\n",
       "      <th></th>\n",
       "      <th>petition_title</th>\n",
       "      <th>petition_ask</th>\n",
       "    </tr>\n",
       "  </thead>\n",
       "  <tbody>\n",
       "    <tr>\n",
       "      <th>0</th>\n",
       "      <td>[Free, Kusha]</td>\n",
       "      <td>Free Kusha and reunite elephant pair</td>\n",
       "    </tr>\n",
       "    <tr>\n",
       "      <th>1</th>\n",
       "      <td>[Save, Caracal]</td>\n",
       "      <td>Save Caracal cat in india</td>\n",
       "    </tr>\n",
       "    <tr>\n",
       "      <th>2</th>\n",
       "      <td>[Animal, Treatment]</td>\n",
       "      <td>Animal Treatment and ABC Centre for Borivli, K...</td>\n",
       "    </tr>\n",
       "    <tr>\n",
       "      <th>3</th>\n",
       "      <td>[Seven, Sebastian]</td>\n",
       "      <td>Seven Sebastian to say the N word once Unbanne...</td>\n",
       "    </tr>\n",
       "    <tr>\n",
       "      <th>4</th>\n",
       "      <td>[Don't, buy]</td>\n",
       "      <td>Don't buy animals, Adopt them!</td>\n",
       "    </tr>\n",
       "    <tr>\n",
       "      <th>5</th>\n",
       "      <td>[#JusticeforBuddy, -]</td>\n",
       "      <td>#JusticeforBuddy - Punish the perpetrators and...</td>\n",
       "    </tr>\n",
       "    <tr>\n",
       "      <th>6</th>\n",
       "      <td>[Take, Action]</td>\n",
       "      <td>Take Action Immediately Like Saviors</td>\n",
       "    </tr>\n",
       "    <tr>\n",
       "      <th>7</th>\n",
       "      <td>[Help, Stop]</td>\n",
       "      <td>Help Stop Ken-Betwa link project</td>\n",
       "    </tr>\n",
       "    <tr>\n",
       "      <th>8</th>\n",
       "      <td>[Save, Caracal]</td>\n",
       "      <td>Save Caracal cat in india</td>\n",
       "    </tr>\n",
       "    <tr>\n",
       "      <th>9</th>\n",
       "      <td>[Animal, Treatment]</td>\n",
       "      <td>Animal Treatment and ABC Centre for Borivli, K...</td>\n",
       "    </tr>\n",
       "  </tbody>\n",
       "</table>\n",
       "</div>"
      ],
      "text/plain": [
       "          petition_title                                       petition_ask\n",
       "0          [Free, Kusha]               Free Kusha and reunite elephant pair\n",
       "1        [Save, Caracal]                          Save Caracal cat in india\n",
       "2    [Animal, Treatment]  Animal Treatment and ABC Centre for Borivli, K...\n",
       "3     [Seven, Sebastian]  Seven Sebastian to say the N word once Unbanne...\n",
       "4           [Don't, buy]                     Don't buy animals, Adopt them!\n",
       "5  [#JusticeforBuddy, -]  #JusticeforBuddy - Punish the perpetrators and...\n",
       "6         [Take, Action]               Take Action Immediately Like Saviors\n",
       "7           [Help, Stop]                   Help Stop Ken-Betwa link project\n",
       "8        [Save, Caracal]                          Save Caracal cat in india\n",
       "9    [Animal, Treatment]  Animal Treatment and ABC Centre for Borivli, K..."
      ]
     },
     "execution_count": 315,
     "metadata": {},
     "output_type": "execute_result"
    }
   ],
   "source": [
    "df4['petition_title'] = df4['petition_ask'].apply(split_2)\n",
    "df4[['petition_title','petition_ask']].head(10) "
   ]
  },
  {
   "cell_type": "code",
   "execution_count": 316,
   "id": "ea575f10",
   "metadata": {
    "ExecuteTime": {
     "end_time": "2021-07-27T12:29:25.008150Z",
     "start_time": "2021-07-27T12:29:24.999950Z"
    }
   },
   "outputs": [
    {
     "data": {
      "text/plain": [
       "0     teacher\n",
       "1       other\n",
       "2       other\n",
       "3    services\n",
       "4       other\n",
       "Name: Fjob, dtype: object"
      ]
     },
     "execution_count": 316,
     "metadata": {},
     "output_type": "execute_result"
    }
   ],
   "source": [
    "# Value counts and apply() for frequency encoding\n",
    "df2['Fjob'].head() "
   ]
  },
  {
   "cell_type": "code",
   "execution_count": 317,
   "id": "98eaf6d5",
   "metadata": {
    "ExecuteTime": {
     "end_time": "2021-07-27T12:29:25.041125Z",
     "start_time": "2021-07-27T12:29:25.011303Z"
    }
   },
   "outputs": [
    {
     "name": "stdout",
     "output_type": "stream",
     "text": [
      "The sum of Fjob_freq variable: 1.0\n"
     ]
    },
    {
     "data": {
      "text/html": [
       "<div>\n",
       "<style scoped>\n",
       "    .dataframe tbody tr th:only-of-type {\n",
       "        vertical-align: middle;\n",
       "    }\n",
       "\n",
       "    .dataframe tbody tr th {\n",
       "        vertical-align: top;\n",
       "    }\n",
       "\n",
       "    .dataframe thead th {\n",
       "        text-align: right;\n",
       "    }\n",
       "</style>\n",
       "<table border=\"1\" class=\"dataframe\">\n",
       "  <thead>\n",
       "    <tr style=\"text-align: right;\">\n",
       "      <th></th>\n",
       "      <th>Fjob</th>\n",
       "      <th>Fjob_freq</th>\n",
       "    </tr>\n",
       "  </thead>\n",
       "  <tbody>\n",
       "    <tr>\n",
       "      <th>0</th>\n",
       "      <td>teacher</td>\n",
       "      <td>0.073418</td>\n",
       "    </tr>\n",
       "    <tr>\n",
       "      <th>1</th>\n",
       "      <td>other</td>\n",
       "      <td>0.549367</td>\n",
       "    </tr>\n",
       "    <tr>\n",
       "      <th>2</th>\n",
       "      <td>other</td>\n",
       "      <td>0.549367</td>\n",
       "    </tr>\n",
       "    <tr>\n",
       "      <th>3</th>\n",
       "      <td>services</td>\n",
       "      <td>0.281013</td>\n",
       "    </tr>\n",
       "    <tr>\n",
       "      <th>4</th>\n",
       "      <td>other</td>\n",
       "      <td>0.549367</td>\n",
       "    </tr>\n",
       "    <tr>\n",
       "      <th>5</th>\n",
       "      <td>other</td>\n",
       "      <td>0.549367</td>\n",
       "    </tr>\n",
       "  </tbody>\n",
       "</table>\n",
       "</div>"
      ],
      "text/plain": [
       "       Fjob  Fjob_freq\n",
       "0   teacher   0.073418\n",
       "1     other   0.549367\n",
       "2     other   0.549367\n",
       "3  services   0.281013\n",
       "4     other   0.549367\n",
       "5     other   0.549367"
      ]
     },
     "execution_count": 317,
     "metadata": {},
     "output_type": "execute_result"
    }
   ],
   "source": [
    "# Frequency encoding using value_counts function \n",
    "Fjob_freq = df2['Fjob'].value_counts(normalize=True)\n",
    "\n",
    "# Mapping the encoded values with original data \n",
    "df2['Fjob_freq'] = df2['Fjob'].apply(lambda x : Fjob_freq[x])\n",
    "\n",
    "print('The sum of Fjob_freq variable:', sum(Fjob_freq))\n",
    "df2[['Fjob', 'Fjob_freq']].head(6)"
   ]
  },
  {
   "cell_type": "code",
   "execution_count": 318,
   "id": "05b3674f",
   "metadata": {
    "ExecuteTime": {
     "end_time": "2021-07-27T12:29:25.049277Z",
     "start_time": "2021-07-27T12:29:25.045526Z"
    }
   },
   "outputs": [],
   "source": [
    "# groupby() and transform() for Aggregation Features\n",
    "# We would use a sales data here"
   ]
  },
  {
   "cell_type": "code",
   "execution_count": 319,
   "id": "a8530965",
   "metadata": {
    "ExecuteTime": {
     "end_time": "2021-07-27T12:29:25.413439Z",
     "start_time": "2021-07-27T12:29:25.059856Z"
    }
   },
   "outputs": [
    {
     "data": {
      "text/html": [
       "<div>\n",
       "<style scoped>\n",
       "    .dataframe tbody tr th:only-of-type {\n",
       "        vertical-align: middle;\n",
       "    }\n",
       "\n",
       "    .dataframe tbody tr th {\n",
       "        vertical-align: top;\n",
       "    }\n",
       "\n",
       "    .dataframe thead th {\n",
       "        text-align: right;\n",
       "    }\n",
       "</style>\n",
       "<table border=\"1\" class=\"dataframe\">\n",
       "  <thead>\n",
       "    <tr style=\"text-align: right;\">\n",
       "      <th></th>\n",
       "      <th>Date</th>\n",
       "      <th>Customer_Age</th>\n",
       "      <th>Age_Group</th>\n",
       "      <th>Customer_Gender</th>\n",
       "      <th>Country</th>\n",
       "      <th>State</th>\n",
       "      <th>Product_Category</th>\n",
       "      <th>Sub_Category</th>\n",
       "      <th>Product</th>\n",
       "      <th>Order_Quantity</th>\n",
       "      <th>Unit_Cost</th>\n",
       "      <th>Unit_Price</th>\n",
       "      <th>Profit</th>\n",
       "      <th>Cost</th>\n",
       "      <th>Revenue</th>\n",
       "    </tr>\n",
       "  </thead>\n",
       "  <tbody>\n",
       "    <tr>\n",
       "      <th>0</th>\n",
       "      <td>2013-11-26</td>\n",
       "      <td>19</td>\n",
       "      <td>Youth (&lt;25)</td>\n",
       "      <td>M</td>\n",
       "      <td>Canada</td>\n",
       "      <td>British Columbia</td>\n",
       "      <td>Accessories</td>\n",
       "      <td>Bike Racks</td>\n",
       "      <td>Hitch Rack - 4-Bike</td>\n",
       "      <td>8</td>\n",
       "      <td>45</td>\n",
       "      <td>120</td>\n",
       "      <td>590</td>\n",
       "      <td>360</td>\n",
       "      <td>950</td>\n",
       "    </tr>\n",
       "    <tr>\n",
       "      <th>1</th>\n",
       "      <td>2015-11-26</td>\n",
       "      <td>19</td>\n",
       "      <td>Youth (&lt;25)</td>\n",
       "      <td>M</td>\n",
       "      <td>Canada</td>\n",
       "      <td>British Columbia</td>\n",
       "      <td>Accessories</td>\n",
       "      <td>Bike Racks</td>\n",
       "      <td>Hitch Rack - 4-Bike</td>\n",
       "      <td>8</td>\n",
       "      <td>45</td>\n",
       "      <td>120</td>\n",
       "      <td>590</td>\n",
       "      <td>360</td>\n",
       "      <td>950</td>\n",
       "    </tr>\n",
       "    <tr>\n",
       "      <th>2</th>\n",
       "      <td>2014-03-23</td>\n",
       "      <td>49</td>\n",
       "      <td>Adults (35-64)</td>\n",
       "      <td>M</td>\n",
       "      <td>Australia</td>\n",
       "      <td>New South Wales</td>\n",
       "      <td>Accessories</td>\n",
       "      <td>Bike Racks</td>\n",
       "      <td>Hitch Rack - 4-Bike</td>\n",
       "      <td>23</td>\n",
       "      <td>45</td>\n",
       "      <td>120</td>\n",
       "      <td>1366</td>\n",
       "      <td>1035</td>\n",
       "      <td>2401</td>\n",
       "    </tr>\n",
       "    <tr>\n",
       "      <th>3</th>\n",
       "      <td>2016-03-23</td>\n",
       "      <td>49</td>\n",
       "      <td>Adults (35-64)</td>\n",
       "      <td>M</td>\n",
       "      <td>Australia</td>\n",
       "      <td>New South Wales</td>\n",
       "      <td>Accessories</td>\n",
       "      <td>Bike Racks</td>\n",
       "      <td>Hitch Rack - 4-Bike</td>\n",
       "      <td>20</td>\n",
       "      <td>45</td>\n",
       "      <td>120</td>\n",
       "      <td>1188</td>\n",
       "      <td>900</td>\n",
       "      <td>2088</td>\n",
       "    </tr>\n",
       "    <tr>\n",
       "      <th>4</th>\n",
       "      <td>2014-05-15</td>\n",
       "      <td>47</td>\n",
       "      <td>Adults (35-64)</td>\n",
       "      <td>F</td>\n",
       "      <td>Australia</td>\n",
       "      <td>New South Wales</td>\n",
       "      <td>Accessories</td>\n",
       "      <td>Bike Racks</td>\n",
       "      <td>Hitch Rack - 4-Bike</td>\n",
       "      <td>4</td>\n",
       "      <td>45</td>\n",
       "      <td>120</td>\n",
       "      <td>238</td>\n",
       "      <td>180</td>\n",
       "      <td>418</td>\n",
       "    </tr>\n",
       "  </tbody>\n",
       "</table>\n",
       "</div>"
      ],
      "text/plain": [
       "        Date  Customer_Age       Age_Group Customer_Gender    Country  \\\n",
       "0 2013-11-26            19     Youth (<25)               M     Canada   \n",
       "1 2015-11-26            19     Youth (<25)               M     Canada   \n",
       "2 2014-03-23            49  Adults (35-64)               M  Australia   \n",
       "3 2016-03-23            49  Adults (35-64)               M  Australia   \n",
       "4 2014-05-15            47  Adults (35-64)               F  Australia   \n",
       "\n",
       "              State Product_Category Sub_Category              Product  \\\n",
       "0  British Columbia      Accessories   Bike Racks  Hitch Rack - 4-Bike   \n",
       "1  British Columbia      Accessories   Bike Racks  Hitch Rack - 4-Bike   \n",
       "2   New South Wales      Accessories   Bike Racks  Hitch Rack - 4-Bike   \n",
       "3   New South Wales      Accessories   Bike Racks  Hitch Rack - 4-Bike   \n",
       "4   New South Wales      Accessories   Bike Racks  Hitch Rack - 4-Bike   \n",
       "\n",
       "   Order_Quantity  Unit_Cost  Unit_Price  Profit  Cost  Revenue  \n",
       "0               8         45         120     590   360      950  \n",
       "1               8         45         120     590   360      950  \n",
       "2              23         45         120    1366  1035     2401  \n",
       "3              20         45         120    1188   900     2088  \n",
       "4               4         45         120     238   180      418  "
      ]
     },
     "execution_count": 319,
     "metadata": {},
     "output_type": "execute_result"
    }
   ],
   "source": [
    "# The first 5 observations of the sales dataframe\n",
    "# I converted the 'Date' column to a datetime format\n",
    "df5 = pd.read_csv('sales_data.csv',parse_dates=['Date'])\n",
    "df5.head()"
   ]
  },
  {
   "cell_type": "code",
   "execution_count": 320,
   "id": "16eddf46",
   "metadata": {
    "ExecuteTime": {
     "end_time": "2021-07-27T12:29:25.692899Z",
     "start_time": "2021-07-27T12:29:25.420037Z"
    }
   },
   "outputs": [
    {
     "data": {
      "text/html": [
       "<div>\n",
       "<style scoped>\n",
       "    .dataframe tbody tr th:only-of-type {\n",
       "        vertical-align: middle;\n",
       "    }\n",
       "\n",
       "    .dataframe tbody tr th {\n",
       "        vertical-align: top;\n",
       "    }\n",
       "\n",
       "    .dataframe thead th {\n",
       "        text-align: right;\n",
       "    }\n",
       "</style>\n",
       "<table border=\"1\" class=\"dataframe\">\n",
       "  <thead>\n",
       "    <tr style=\"text-align: right;\">\n",
       "      <th></th>\n",
       "      <th>Sub_Category</th>\n",
       "      <th>Cost</th>\n",
       "      <th>Profit</th>\n",
       "      <th>Profit_Mean</th>\n",
       "    </tr>\n",
       "  </thead>\n",
       "  <tbody>\n",
       "    <tr>\n",
       "      <th>0</th>\n",
       "      <td>Bike Racks</td>\n",
       "      <td>360</td>\n",
       "      <td>590</td>\n",
       "      <td>519.341463</td>\n",
       "    </tr>\n",
       "    <tr>\n",
       "      <th>1</th>\n",
       "      <td>Bike Racks</td>\n",
       "      <td>360</td>\n",
       "      <td>590</td>\n",
       "      <td>519.341463</td>\n",
       "    </tr>\n",
       "    <tr>\n",
       "      <th>2</th>\n",
       "      <td>Bike Racks</td>\n",
       "      <td>1035</td>\n",
       "      <td>1366</td>\n",
       "      <td>1512.000000</td>\n",
       "    </tr>\n",
       "    <tr>\n",
       "      <th>3</th>\n",
       "      <td>Bike Racks</td>\n",
       "      <td>900</td>\n",
       "      <td>1188</td>\n",
       "      <td>1380.000000</td>\n",
       "    </tr>\n",
       "    <tr>\n",
       "      <th>4</th>\n",
       "      <td>Bike Racks</td>\n",
       "      <td>180</td>\n",
       "      <td>238</td>\n",
       "      <td>246.000000</td>\n",
       "    </tr>\n",
       "  </tbody>\n",
       "</table>\n",
       "</div>"
      ],
      "text/plain": [
       "  Sub_Category  Cost  Profit  Profit_Mean\n",
       "0   Bike Racks   360     590   519.341463\n",
       "1   Bike Racks   360     590   519.341463\n",
       "2   Bike Racks  1035    1366  1512.000000\n",
       "3   Bike Racks   900    1188  1380.000000\n",
       "4   Bike Racks   180     238   246.000000"
      ]
     },
     "execution_count": 320,
     "metadata": {},
     "output_type": "execute_result"
    }
   ],
   "source": [
    "df5['Profit_Mean'] = df5.groupby(['Sub_Category', 'Cost'])[\n",
    "    'Profit'].transform(lambda x: x.mean())\n",
    "\n",
    "df5[['Sub_Category','Cost',\n",
    "      'Profit', 'Profit_Mean']].head()"
   ]
  },
  {
   "cell_type": "code",
   "execution_count": 321,
   "id": "4650cee3",
   "metadata": {
    "ExecuteTime": {
     "end_time": "2021-07-27T12:29:25.708607Z",
     "start_time": "2021-07-27T12:29:25.698911Z"
    }
   },
   "outputs": [
    {
     "data": {
      "text/plain": [
       "0   2013-11-26\n",
       "1   2015-11-26\n",
       "2   2014-03-23\n",
       "3   2016-03-23\n",
       "4   2014-05-15\n",
       "Name: Date, dtype: datetime64[ns]"
      ]
     },
     "execution_count": 321,
     "metadata": {},
     "output_type": "execute_result"
    }
   ],
   "source": [
    "# Series.dt() for date and time based features\n",
    "df5['Date'].head()"
   ]
  },
  {
   "cell_type": "code",
   "execution_count": 322,
   "id": "ead596b7",
   "metadata": {
    "ExecuteTime": {
     "end_time": "2021-07-27T12:29:25.774450Z",
     "start_time": "2021-07-27T12:29:25.712749Z"
    }
   },
   "outputs": [],
   "source": [
    "df5['Sales Year'] = df5['Date'].dt.year\n",
    "df5['Sales day of year']  = df5['Date'].dt.day\n",
    "df5['Sales month of year'] = df5['Date'].dt.month\n",
    "df5['Sales day of week'] = df5['Date'].dt.dayofweek\n",
    "df5['Sales week of year'] = df5['Date'].dt.isocalendar().week"
   ]
  },
  {
   "cell_type": "code",
   "execution_count": 323,
   "id": "67fd503b",
   "metadata": {
    "ExecuteTime": {
     "end_time": "2021-07-27T12:29:25.849581Z",
     "start_time": "2021-07-27T12:29:25.781389Z"
    }
   },
   "outputs": [
    {
     "data": {
      "text/html": [
       "<div>\n",
       "<style scoped>\n",
       "    .dataframe tbody tr th:only-of-type {\n",
       "        vertical-align: middle;\n",
       "    }\n",
       "\n",
       "    .dataframe tbody tr th {\n",
       "        vertical-align: top;\n",
       "    }\n",
       "\n",
       "    .dataframe thead th {\n",
       "        text-align: right;\n",
       "    }\n",
       "</style>\n",
       "<table border=\"1\" class=\"dataframe\">\n",
       "  <thead>\n",
       "    <tr style=\"text-align: right;\">\n",
       "      <th></th>\n",
       "      <th>Date</th>\n",
       "      <th>Sales Year</th>\n",
       "      <th>Sales day of year</th>\n",
       "      <th>Sales month of year</th>\n",
       "      <th>Sales day of week</th>\n",
       "      <th>Sales week of year</th>\n",
       "    </tr>\n",
       "  </thead>\n",
       "  <tbody>\n",
       "    <tr>\n",
       "      <th>113031</th>\n",
       "      <td>2016-04-12</td>\n",
       "      <td>2016</td>\n",
       "      <td>12</td>\n",
       "      <td>4</td>\n",
       "      <td>1</td>\n",
       "      <td>15</td>\n",
       "    </tr>\n",
       "    <tr>\n",
       "      <th>113032</th>\n",
       "      <td>2014-04-02</td>\n",
       "      <td>2014</td>\n",
       "      <td>2</td>\n",
       "      <td>4</td>\n",
       "      <td>2</td>\n",
       "      <td>14</td>\n",
       "    </tr>\n",
       "    <tr>\n",
       "      <th>113033</th>\n",
       "      <td>2016-04-02</td>\n",
       "      <td>2016</td>\n",
       "      <td>2</td>\n",
       "      <td>4</td>\n",
       "      <td>5</td>\n",
       "      <td>13</td>\n",
       "    </tr>\n",
       "    <tr>\n",
       "      <th>113034</th>\n",
       "      <td>2014-03-04</td>\n",
       "      <td>2014</td>\n",
       "      <td>4</td>\n",
       "      <td>3</td>\n",
       "      <td>1</td>\n",
       "      <td>10</td>\n",
       "    </tr>\n",
       "    <tr>\n",
       "      <th>113035</th>\n",
       "      <td>2016-03-04</td>\n",
       "      <td>2016</td>\n",
       "      <td>4</td>\n",
       "      <td>3</td>\n",
       "      <td>4</td>\n",
       "      <td>9</td>\n",
       "    </tr>\n",
       "  </tbody>\n",
       "</table>\n",
       "</div>"
      ],
      "text/plain": [
       "             Date  Sales Year  Sales day of year  Sales month of year  \\\n",
       "113031 2016-04-12        2016                 12                    4   \n",
       "113032 2014-04-02        2014                  2                    4   \n",
       "113033 2016-04-02        2016                  2                    4   \n",
       "113034 2014-03-04        2014                  4                    3   \n",
       "113035 2016-03-04        2016                  4                    3   \n",
       "\n",
       "        Sales day of week  Sales week of year  \n",
       "113031                  1                  15  \n",
       "113032                  2                  14  \n",
       "113033                  5                  13  \n",
       "113034                  1                  10  \n",
       "113035                  4                   9  "
      ]
     },
     "execution_count": 323,
     "metadata": {},
     "output_type": "execute_result"
    }
   ],
   "source": [
    "df5[['Date', 'Sales Year', 'Sales day of year', 'Sales month of year', 'Sales day of week', 'Sales week of year']].tail() "
   ]
  },
  {
   "cell_type": "code",
   "execution_count": 324,
   "id": "9a660f0f",
   "metadata": {
    "ExecuteTime": {
     "end_time": "2021-07-27T12:29:27.766644Z",
     "start_time": "2021-07-27T12:29:25.856299Z"
    }
   },
   "outputs": [],
   "source": [
    "# We can convert the Sales day of week to actual day names\n",
    "df5['Sales day of week'] = df5['Date'].apply(lambda x: x.day_name())\n",
    "df5['Sales day of week'] = pd.Categorical(df5['Sales day of week'], categories=['Monday','Tuesday','Wednesday',\n",
    "                                                                'Thursday','Friday','Saturday', \n",
    "                                                                'Sunday'], ordered=True)"
   ]
  },
  {
   "cell_type": "code",
   "execution_count": 325,
   "id": "5e6994e1",
   "metadata": {
    "ExecuteTime": {
     "end_time": "2021-07-27T12:29:27.839324Z",
     "start_time": "2021-07-27T12:29:27.769177Z"
    }
   },
   "outputs": [
    {
     "data": {
      "text/html": [
       "<div>\n",
       "<style scoped>\n",
       "    .dataframe tbody tr th:only-of-type {\n",
       "        vertical-align: middle;\n",
       "    }\n",
       "\n",
       "    .dataframe tbody tr th {\n",
       "        vertical-align: top;\n",
       "    }\n",
       "\n",
       "    .dataframe thead th {\n",
       "        text-align: right;\n",
       "    }\n",
       "</style>\n",
       "<table border=\"1\" class=\"dataframe\">\n",
       "  <thead>\n",
       "    <tr style=\"text-align: right;\">\n",
       "      <th></th>\n",
       "      <th>Date</th>\n",
       "      <th>Sales Year</th>\n",
       "      <th>Sales day of year</th>\n",
       "      <th>Sales month of year</th>\n",
       "      <th>Sales day of week</th>\n",
       "      <th>Sales week of year</th>\n",
       "    </tr>\n",
       "  </thead>\n",
       "  <tbody>\n",
       "    <tr>\n",
       "      <th>113031</th>\n",
       "      <td>2016-04-12</td>\n",
       "      <td>2016</td>\n",
       "      <td>12</td>\n",
       "      <td>4</td>\n",
       "      <td>Tuesday</td>\n",
       "      <td>15</td>\n",
       "    </tr>\n",
       "    <tr>\n",
       "      <th>113032</th>\n",
       "      <td>2014-04-02</td>\n",
       "      <td>2014</td>\n",
       "      <td>2</td>\n",
       "      <td>4</td>\n",
       "      <td>Wednesday</td>\n",
       "      <td>14</td>\n",
       "    </tr>\n",
       "    <tr>\n",
       "      <th>113033</th>\n",
       "      <td>2016-04-02</td>\n",
       "      <td>2016</td>\n",
       "      <td>2</td>\n",
       "      <td>4</td>\n",
       "      <td>Saturday</td>\n",
       "      <td>13</td>\n",
       "    </tr>\n",
       "    <tr>\n",
       "      <th>113034</th>\n",
       "      <td>2014-03-04</td>\n",
       "      <td>2014</td>\n",
       "      <td>4</td>\n",
       "      <td>3</td>\n",
       "      <td>Tuesday</td>\n",
       "      <td>10</td>\n",
       "    </tr>\n",
       "    <tr>\n",
       "      <th>113035</th>\n",
       "      <td>2016-03-04</td>\n",
       "      <td>2016</td>\n",
       "      <td>4</td>\n",
       "      <td>3</td>\n",
       "      <td>Friday</td>\n",
       "      <td>9</td>\n",
       "    </tr>\n",
       "  </tbody>\n",
       "</table>\n",
       "</div>"
      ],
      "text/plain": [
       "             Date  Sales Year  Sales day of year  Sales month of year  \\\n",
       "113031 2016-04-12        2016                 12                    4   \n",
       "113032 2014-04-02        2014                  2                    4   \n",
       "113033 2016-04-02        2016                  2                    4   \n",
       "113034 2014-03-04        2014                  4                    3   \n",
       "113035 2016-03-04        2016                  4                    3   \n",
       "\n",
       "       Sales day of week  Sales week of year  \n",
       "113031           Tuesday                  15  \n",
       "113032         Wednesday                  14  \n",
       "113033          Saturday                  13  \n",
       "113034           Tuesday                  10  \n",
       "113035            Friday                   9  "
      ]
     },
     "execution_count": 325,
     "metadata": {},
     "output_type": "execute_result"
    }
   ],
   "source": [
    "df5[['Date', 'Sales Year', 'Sales day of year', 'Sales month of year',\n",
    "    'Sales day of week', 'Sales week of year']].tail()"
   ]
  }
 ],
 "metadata": {
  "kernelspec": {
   "display_name": "Python 3",
   "language": "python",
   "name": "python3"
  },
  "language_info": {
   "codemirror_mode": {
    "name": "ipython",
    "version": 3
   },
   "file_extension": ".py",
   "mimetype": "text/x-python",
   "name": "python",
   "nbconvert_exporter": "python",
   "pygments_lexer": "ipython3",
   "version": "3.8.8"
  },
  "toc": {
   "base_numbering": 1,
   "nav_menu": {},
   "number_sections": true,
   "sideBar": true,
   "skip_h1_title": false,
   "title_cell": "Table of Contents",
   "title_sidebar": "Contents",
   "toc_cell": false,
   "toc_position": {},
   "toc_section_display": true,
   "toc_window_display": false
  }
 },
 "nbformat": 4,
 "nbformat_minor": 5
}
